{
 "cells": [
  {
   "cell_type": "code",
   "execution_count": 1,
   "metadata": {},
   "outputs": [],
   "source": [
    "# Inicialice app\n",
    "import os, pyspark\n",
    "from pyspark.sql import *\n",
    "#os.chdir(\"/home/ubuntu\")\n",
    "spark = SparkSession.builder.appName(\"prueba\").master(\"local[*]\").getOrCreate()\n",
    "sc = spark.sparkContext"
   ]
  },
  {
   "cell_type": "code",
   "execution_count": 2,
   "metadata": {},
   "outputs": [],
   "source": [
    "# Creo la funcion para parsear las fechas\n",
    "import datetime\n",
    "import time\n",
    "\n",
    "def formatoFecha(elemento):\n",
    "    if elemento.endswith('Z') and elemento[10]==\"T\" and elemento[19]==\".\":\n",
    "        output = elemento[0:10] + \" \" + elemento[11:19] + elemento[20:]\n",
    "        output = output[:-1]\n",
    "        \n",
    "    elementoFormateado=time.strptime(output, \"%Y-%m-%d %H:%M:%S%f\")\n",
    "    #return output\n",
    "    return datetime.datetime(elementoFormateado[0],elementoFormateado[1],elementoFormateado[2],elementoFormateado[3],\n",
    "                            elementoFormateado[4],elementoFormateado[5],elementoFormateado[6]) #.replace(tzinfo=pytz.utc)"
   ]
  },
  {
   "cell_type": "code",
   "execution_count": 3,
   "metadata": {},
   "outputs": [
    {
     "data": {
      "text/plain": [
       "datetime.datetime(2018, 6, 25, 10, 42, 56, tzinfo=<UTC>)"
      ]
     },
     "execution_count": 3,
     "metadata": {},
     "output_type": "execute_result"
    }
   ],
   "source": [
    "# Probamos que funciona bien\n",
    "import pytz\n",
    "a=\"2018-06-25T10:42:56.366000Z\"\n",
    "b=formatoFecha(a).replace(tzinfo=pytz.utc)\n",
    "b\n",
    "\n"
   ]
  },
  {
   "cell_type": "code",
   "execution_count": 4,
   "metadata": {},
   "outputs": [],
   "source": [
    "# Cargamos los datos desde el fichero\n",
    "data_file = \"../Desktop/Data Science/00 -TFM/8- Fichero de prueba/gdax_data_0001.gz\"\n",
    "data = spark.read.json(data_file).sample(False,0.1,1234)"
   ]
  },
  {
   "cell_type": "code",
   "execution_count": 5,
   "metadata": {},
   "outputs": [
    {
     "data": {
      "text/plain": [
       "1038318"
      ]
     },
     "execution_count": 5,
     "metadata": {},
     "output_type": "execute_result"
    }
   ],
   "source": [
    "data.count()"
   ]
  },
  {
   "cell_type": "code",
   "execution_count": 6,
   "metadata": {},
   "outputs": [],
   "source": [
    "# a=data.limit(100000)\n",
    "# a.write.mode(\"overwrite\").json(\"../Desktop/Data Science/00 -TFM/8- Fichero de prueba/10pgdax_data_000110.json\")"
   ]
  },
  {
   "cell_type": "code",
   "execution_count": 25,
   "metadata": {},
   "outputs": [
    {
     "data": {
      "text/plain": [
       "[Row(_corrupt_record=None, client_oid=None, funds=None, last_trade_id=None, maker_order_id=None, order_id='9bdd240e-b4f6-416c-9b63-a896f35fd45e', order_type=None, price='4707.84000000', product_id='BTC-GBP', reason='canceled', remaining_size='3.31000000', sequence=3241615408, side='buy', size=None, taker_order_id=None, time='2018-06-25T10:42:56.270000Z', trade_id=None, type='done'),\n",
       " Row(_corrupt_record=None, client_oid=None, funds=None, last_trade_id=None, maker_order_id=None, order_id='a4edd96f-f8ae-4584-b216-cf8a338aac1a', order_type=None, price='81.03000000', product_id='LTC-USD', reason='canceled', remaining_size='3.47483000', sequence=2272246309, side='buy', size=None, taker_order_id=None, time='2018-06-25T10:42:56.271000Z', trade_id=None, type='done'),\n",
       " Row(_corrupt_record=None, client_oid=None, funds=None, last_trade_id=None, maker_order_id=None, order_id='f5e5eeb0-cee5-4d04-b862-ea4d6f69d230', order_type=None, price='398.74000000', product_id='ETH-EUR', reason='canceled', remaining_size='20.79969114', sequence=780099199, side='sell', size=None, taker_order_id=None, time='2018-06-25T10:42:56.282000Z', trade_id=None, type='done'),\n",
       " Row(_corrupt_record=None, client_oid=None, funds=None, last_trade_id=None, maker_order_id=None, order_id='bc2e234b-814d-43a2-889b-e2bc5df1442f', order_type=None, price='6184.51000000', product_id='BTC-USD', reason=None, remaining_size='0.25000000', sequence=6180798878, side='buy', size=None, taker_order_id=None, time='2018-06-25T10:42:56.292000Z', trade_id=None, type='open'),\n",
       " Row(_corrupt_record=None, client_oid=None, funds=None, last_trade_id=None, maker_order_id=None, order_id='79d64c3f-a346-4ef7-8c2c-5afb14a043a8', order_type=None, price='459.38000000', product_id='ETH-USD', reason=None, remaining_size='23.01565640', sequence=4117212154, side='buy', size=None, taker_order_id=None, time='2018-06-25T10:42:56.291000Z', trade_id=None, type='open'),\n",
       " Row(_corrupt_record=None, client_oid=None, funds=None, last_trade_id=None, maker_order_id=None, order_id='3e5ace74-6fe6-49e4-a43a-c00c932c591f', order_type=None, price='458.40000000', product_id='ETH-USD', reason='canceled', remaining_size='9.00000000', sequence=4117212163, side='buy', size=None, taker_order_id=None, time='2018-06-25T10:42:56.305000Z', trade_id=None, type='done'),\n",
       " Row(_corrupt_record=None, client_oid=None, funds=None, last_trade_id=None, maker_order_id=None, order_id='52ac5b1c-7045-4bed-ad97-c108c7fdb1dd', order_type=None, price='458.53000000', product_id='ETH-USD', reason=None, remaining_size='9.00000000', sequence=4117212165, side='buy', size=None, taker_order_id=None, time='2018-06-25T10:42:56.309000Z', trade_id=None, type='open'),\n",
       " Row(_corrupt_record=None, client_oid='35216214-c898-45a9-ac71-8d5cccb24298', funds=None, last_trade_id=None, maker_order_id=None, order_id='d6f81380-a441-4cd6-800d-893904358c87', order_type='limit', price='458.95000000', product_id='ETH-USD', reason=None, remaining_size=None, sequence=4117212170, side='buy', size='1.00000000', taker_order_id=None, time='2018-06-25T10:42:56.313000Z', trade_id=None, type='received'),\n",
       " Row(_corrupt_record=None, client_oid=None, funds=None, last_trade_id=None, maker_order_id=None, order_id='52ac5b1c-7045-4bed-ad97-c108c7fdb1dd', order_type=None, price='458.53000000', product_id='ETH-USD', reason='canceled', remaining_size='9.00000000', sequence=4117212183, side='buy', size=None, taker_order_id=None, time='2018-06-25T10:42:56.338000Z', trade_id=None, type='done'),\n",
       " Row(_corrupt_record=None, client_oid=None, funds=None, last_trade_id=None, maker_order_id=None, order_id='96e43c36-cafd-44e2-ab94-11832b20d4e6', order_type=None, price='458.67000000', product_id='ETH-USD', reason='canceled', remaining_size='6.00000000', sequence=4117212186, side='buy', size=None, taker_order_id=None, time='2018-06-25T10:42:56.350000Z', trade_id=None, type='done'),\n",
       " Row(_corrupt_record=None, client_oid='95164f02-be8d-4827-972d-1c08f083e994', funds=None, last_trade_id=None, maker_order_id=None, order_id='bdfd2262-acfe-4741-b3a3-33fff11dd3e5', order_type='limit', price='459.95000000', product_id='ETH-USD', reason=None, remaining_size=None, sequence=4117212188, side='sell', size='0.14000000', taker_order_id=None, time='2018-06-25T10:42:56.353000Z', trade_id=None, type='received'),\n",
       " Row(_corrupt_record=None, client_oid=None, funds=None, last_trade_id=None, maker_order_id=None, order_id='b2ec09e6-0d17-4a65-b9e7-fb693743fca8', order_type=None, price='4707.86000000', product_id='BTC-GBP', reason='canceled', remaining_size='0.05747327', sequence=3241615420, side='buy', size=None, taker_order_id=None, time='2018-06-25T10:42:56.383000Z', trade_id=None, type='done'),\n",
       " Row(_corrupt_record=None, client_oid=None, funds=None, last_trade_id=None, maker_order_id=None, order_id='3ccc697d-9c33-4c49-afd7-9ac47147b09c', order_type=None, price='5332.59000000', product_id='BTC-EUR', reason='canceled', remaining_size='4.36200000', sequence=3883448490, side='sell', size=None, taker_order_id=None, time='2018-06-25T10:42:56.438000Z', trade_id=None, type='done'),\n",
       " Row(_corrupt_record=None, client_oid=None, funds=None, last_trade_id=None, maker_order_id=None, order_id='372ff917-3de0-4313-9872-0456eb6223f3', order_type=None, price='4707.47000000', product_id='BTC-GBP', reason='canceled', remaining_size='0.01000000', sequence=3241615424, side='buy', size=None, taker_order_id=None, time='2018-06-25T10:42:56.438000Z', trade_id=None, type='done'),\n",
       " Row(_corrupt_record=None, client_oid='e702a4e1-c14e-419e-9a35-0f6be9d2dd42', funds=None, last_trade_id=None, maker_order_id=None, order_id='767e97e9-dfd3-4886-bb83-ed8f6082bf94', order_type='limit', price='6182.98000000', product_id='BTC-USD', reason=None, remaining_size=None, sequence=6180798888, side='buy', size='0.25000000', taker_order_id=None, time='2018-06-25T10:42:56.442000Z', trade_id=None, type='received'),\n",
       " Row(_corrupt_record=None, client_oid=None, funds=None, last_trade_id=None, maker_order_id=None, order_id='f85f868e-98f0-488d-ad2a-622430a2262d', order_type='limit', price='69.85000000', product_id='LTC-EUR', reason=None, remaining_size=None, sequence=604646581, side='buy', size='0.99000000', taker_order_id=None, time='2018-06-25T10:42:56.441000Z', trade_id=None, type='received'),\n",
       " Row(_corrupt_record=None, client_oid=None, funds=None, last_trade_id=None, maker_order_id=None, order_id='a86ab3b7-461c-4286-be18-e88b81341dcc', order_type=None, price='4707.87000000', product_id='BTC-GBP', reason=None, remaining_size='0.00950304', sequence=3241615432, side='buy', size=None, taker_order_id=None, time='2018-06-25T10:42:56.448000Z', trade_id=None, type='open'),\n",
       " Row(_corrupt_record=None, client_oid=None, funds=None, last_trade_id=None, maker_order_id=None, order_id='b77a8215-3277-4005-aae3-d43e2f5af22f', order_type=None, price='459.13000000', product_id='ETH-USD', reason=None, remaining_size='1.00000000', sequence=4117212213, side='buy', size=None, taker_order_id=None, time='2018-06-25T10:42:56.451000Z', trade_id=None, type='open'),\n",
       " Row(_corrupt_record=None, client_oid='d46588fd-e547-0023-69c5-5cdc3cb75d03', funds=None, last_trade_id=None, maker_order_id=None, order_id='0d7b2706-ed74-40bf-9ac5-0ed769af2c88', order_type='limit', price='459.40000000', product_id='ETH-USD', reason=None, remaining_size=None, sequence=4117212222, side='buy', size='23.01565640', taker_order_id=None, time='2018-06-25T10:42:56.461000Z', trade_id=None, type='received'),\n",
       " Row(_corrupt_record=None, client_oid=None, funds=None, last_trade_id=None, maker_order_id=None, order_id='edd3017e-52e3-42ab-9892-37662f6a229f', order_type=None, price='4707.76000000', product_id='BTC-GBP', reason=None, remaining_size='0.00963104', sequence=3241615439, side='buy', size=None, taker_order_id=None, time='2018-06-25T10:42:56.464000Z', trade_id=None, type='open')]"
      ]
     },
     "execution_count": 25,
     "metadata": {},
     "output_type": "execute_result"
    }
   ],
   "source": [
    "data.filter()"
   ]
  },
  {
   "cell_type": "code",
   "execution_count": 7,
   "metadata": {},
   "outputs": [],
   "source": [
    "# Creamos la funcion para parsear el RDD:\n",
    "from pyspark.sql import Row\n",
    "import datetime\n",
    "\n",
    "#  ESTA FUNCION RECIBE UN RRD SIN HEADER\n",
    "def parseaditoBomba(linea):\n",
    "    numericPrice = linea[7]\n",
    "    numericSize = linea[13]\n",
    "    parsedTime = linea[15]\n",
    "\n",
    "    if linea[13] != None:\n",
    "        numericSize = float(linea[13])\n",
    "    if linea[7] != None:\n",
    "        numericPrice = float(linea[7])\n",
    "    if linea[15] != None:\n",
    "        parsedTime = formatoFecha(linea[15])\n",
    "        \n",
    "    return(Row(\n",
    "        client_oid=linea[1],\n",
    "        funds = linea[2],  \n",
    "        last_trade_id= linea[3],\n",
    "        maker_order_id  = linea[4],\n",
    "        order_id    = linea[5],\n",
    "        order_type  = linea[6],\n",
    "        price  = numericPrice,\n",
    "        product_id  = linea[8],\n",
    "        reason  = linea[9],\n",
    "        remaining_size  = linea[10],\n",
    "        sequence  = linea[11],\n",
    "        side  = linea[12],\n",
    "        size  = numericSize,\n",
    "        taker_order_id  = linea[14],\n",
    "        time  = parsedTime,\n",
    "        trade_id  = linea[16],\n",
    "        type  = linea[17]\n",
    "    ))"
   ]
  },
  {
   "cell_type": "code",
   "execution_count": 8,
   "metadata": {},
   "outputs": [
    {
     "data": {
      "text/plain": [
       "[Row(client_oid=None, funds=None, last_trade_id=None, maker_order_id=None, order_id='9bdd240e-b4f6-416c-9b63-a896f35fd45e', order_type=None, price=4707.84, product_id='BTC-GBP', reason='canceled', remaining_size='3.31000000', sequence=3241615408, side='buy', size=None, taker_order_id=None, time=datetime.datetime(2018, 6, 25, 10, 42, 56), trade_id=None, type='done'),\n",
       " Row(client_oid=None, funds=None, last_trade_id=None, maker_order_id=None, order_id='a4edd96f-f8ae-4584-b216-cf8a338aac1a', order_type=None, price=81.03, product_id='LTC-USD', reason='canceled', remaining_size='3.47483000', sequence=2272246309, side='buy', size=None, taker_order_id=None, time=datetime.datetime(2018, 6, 25, 10, 42, 56), trade_id=None, type='done'),\n",
       " Row(client_oid=None, funds=None, last_trade_id=None, maker_order_id=None, order_id='f5e5eeb0-cee5-4d04-b862-ea4d6f69d230', order_type=None, price=398.74, product_id='ETH-EUR', reason='canceled', remaining_size='20.79969114', sequence=780099199, side='sell', size=None, taker_order_id=None, time=datetime.datetime(2018, 6, 25, 10, 42, 56), trade_id=None, type='done'),\n",
       " Row(client_oid=None, funds=None, last_trade_id=None, maker_order_id=None, order_id='bc2e234b-814d-43a2-889b-e2bc5df1442f', order_type=None, price=6184.51, product_id='BTC-USD', reason=None, remaining_size='0.25000000', sequence=6180798878, side='buy', size=None, taker_order_id=None, time=datetime.datetime(2018, 6, 25, 10, 42, 56), trade_id=None, type='open'),\n",
       " Row(client_oid=None, funds=None, last_trade_id=None, maker_order_id=None, order_id='79d64c3f-a346-4ef7-8c2c-5afb14a043a8', order_type=None, price=459.38, product_id='ETH-USD', reason=None, remaining_size='23.01565640', sequence=4117212154, side='buy', size=None, taker_order_id=None, time=datetime.datetime(2018, 6, 25, 10, 42, 56), trade_id=None, type='open')]"
      ]
     },
     "execution_count": 8,
     "metadata": {},
     "output_type": "execute_result"
    }
   ],
   "source": [
    "dataParsed = data.rdd.map(lambda x: parseaditoBomba(x))\n",
    "dataParsed.take(5)"
   ]
  },
  {
   "cell_type": "code",
   "execution_count": 9,
   "metadata": {},
   "outputs": [],
   "source": [
    "# Dividimos los diferentes pares\n",
    "\n",
    "dataBTC_USD=dataParsed.filter(lambda x: x.product_id == \"BTC-USD\")\n",
    "dataBTC_EUR=dataParsed.filter(lambda x: x.product_id == \"BTC-EUR\")\n",
    "dataBTC_GPB=dataParsed.filter(lambda x: x.product_id == \"BTC-GPB\")\n",
    "\n",
    "dataETH_USD=dataParsed.filter(lambda x: x.product_id == \"ETH-USD\")\n",
    "dataETH_EUR=dataParsed.filter(lambda x: x.product_id == \"ETH-EUR\")\n",
    "\n",
    "dataLTC_USD=dataParsed.filter(lambda x: x.product_id == \"LTC-USD\")\n",
    "dataLTC_EUR=dataParsed.filter(lambda x: x.product_id == \"LTC-EUR\")\n",
    "\n",
    "dataLTC_BTC=dataParsed.filter(lambda x: x.product_id == \"LTC-BTC\")\n",
    "dataETH_BTC=dataParsed.filter(lambda x: x.product_id == \"ETH-BTC\")"
   ]
  },
  {
   "cell_type": "code",
   "execution_count": 27,
   "metadata": {},
   "outputs": [
    {
     "data": {
      "text/plain": [
       "[Row(client_oid=None, funds=None, last_trade_id=None, maker_order_id=None, order_id='bc2e234b-814d-43a2-889b-e2bc5df1442f', order_type=None, price=6184.51, product_id='BTC-USD', reason=None, remaining_size='0.25000000', sequence=6180798878, side='buy', size=None, taker_order_id=None, time=datetime.datetime(2018, 6, 25, 10, 42, 56), trade_id=None, type='open'),\n",
       " Row(client_oid=None, funds=None, last_trade_id=None, maker_order_id=None, order_id='bdf5a29e-2693-44e1-a642-f7d010615ae7', order_type=None, price=6195.46, product_id='BTC-USD', reason=None, remaining_size='0.04000000', sequence=6180798898, side='sell', size=None, taker_order_id=None, time=datetime.datetime(2018, 6, 25, 10, 42, 56), trade_id=None, type='open'),\n",
       " Row(client_oid=None, funds=None, last_trade_id=None, maker_order_id=None, order_id='a626edb5-a655-4475-8259-cf74e1a2132e', order_type=None, price=6195.46, product_id='BTC-USD', reason=None, remaining_size='0.06285586', sequence=6180798985, side='sell', size=None, taker_order_id=None, time=datetime.datetime(2018, 6, 25, 10, 42, 57), trade_id=None, type='open'),\n",
       " Row(client_oid=None, funds=None, last_trade_id=None, maker_order_id=None, order_id='0401561d-fdd1-495d-9979-1553178b339d', order_type=None, price=6196.4, product_id='BTC-USD', reason=None, remaining_size='0.48200000', sequence=6180799032, side='buy', size=None, taker_order_id=None, time=datetime.datetime(2018, 6, 25, 10, 42, 57), trade_id=None, type='open'),\n",
       " Row(client_oid=None, funds=None, last_trade_id=None, maker_order_id=None, order_id='a4358a41-6d2c-4dcc-9af1-5b5bb18f38f3', order_type=None, price=6211.93, product_id='BTC-USD', reason=None, remaining_size='0.90000000', sequence=6180799095, side='sell', size=None, taker_order_id=None, time=datetime.datetime(2018, 6, 25, 10, 42, 57), trade_id=None, type='open'),\n",
       " Row(client_oid=None, funds=None, last_trade_id=None, maker_order_id=None, order_id='db178ca2-c4b5-42a1-81bc-38a6173e75b5', order_type=None, price=6216.43, product_id='BTC-USD', reason=None, remaining_size='0.00150000', sequence=6180799122, side='sell', size=None, taker_order_id=None, time=datetime.datetime(2018, 6, 25, 10, 42, 57), trade_id=None, type='open'),\n",
       " Row(client_oid=None, funds=None, last_trade_id=None, maker_order_id=None, order_id='7fdfaedf-10a5-4452-9ca4-fce453bb89e0', order_type=None, price=6196.43, product_id='BTC-USD', reason=None, remaining_size='0.04000000', sequence=6180799126, side='sell', size=None, taker_order_id=None, time=datetime.datetime(2018, 6, 25, 10, 42, 58), trade_id=None, type='open'),\n",
       " Row(client_oid=None, funds=None, last_trade_id=None, maker_order_id=None, order_id='12137118-1a89-4271-90ce-807e38b09b85', order_type=None, price=6208.81, product_id='BTC-USD', reason=None, remaining_size='0.90000000', sequence=6180799164, side='sell', size=None, taker_order_id=None, time=datetime.datetime(2018, 6, 25, 10, 42, 58), trade_id=None, type='open'),\n",
       " Row(client_oid=None, funds=None, last_trade_id=None, maker_order_id=None, order_id='d8fe0c55-243d-4042-8263-12fc53b67a8a', order_type=None, price=6210.68, product_id='BTC-USD', reason=None, remaining_size='0.90000000', sequence=6180799219, side='sell', size=None, taker_order_id=None, time=datetime.datetime(2018, 6, 25, 10, 42, 58), trade_id=None, type='open'),\n",
       " Row(client_oid=None, funds=None, last_trade_id=None, maker_order_id=None, order_id='fff42940-52c7-496f-bd44-09f8ba4504a8', order_type=None, price=6180.91, product_id='BTC-USD', reason=None, remaining_size='0.90000000', sequence=6180799340, side='buy', size=None, taker_order_id=None, time=datetime.datetime(2018, 6, 25, 10, 42, 58), trade_id=None, type='open'),\n",
       " Row(client_oid=None, funds=None, last_trade_id=None, maker_order_id=None, order_id='4ce3f6c4-06e1-47e0-87f3-d4cf41f39273', order_type=None, price=6217.43, product_id='BTC-USD', reason=None, remaining_size='0.00100000', sequence=6180799349, side='sell', size=None, taker_order_id=None, time=datetime.datetime(2018, 6, 25, 10, 42, 58), trade_id=None, type='open'),\n",
       " Row(client_oid=None, funds=None, last_trade_id=None, maker_order_id=None, order_id='3f6540aa-cb21-44ac-be20-7a1c3222ade9', order_type=None, price=6201.56, product_id='BTC-USD', reason=None, remaining_size='0.25000000', sequence=6180799381, side='sell', size=None, taker_order_id=None, time=datetime.datetime(2018, 6, 25, 10, 42, 59), trade_id=None, type='open'),\n",
       " Row(client_oid=None, funds=None, last_trade_id=None, maker_order_id=None, order_id='89f95275-7abd-4b59-b4b5-95ce4da66ca6', order_type=None, price=6196.42, product_id='BTC-USD', reason=None, remaining_size='0.00217867', sequence=6180799383, side='sell', size=None, taker_order_id=None, time=datetime.datetime(2018, 6, 25, 10, 42, 59), trade_id=None, type='open'),\n",
       " Row(client_oid=None, funds=None, last_trade_id=None, maker_order_id=None, order_id='a4398f74-c076-4c97-bba0-dd57118fba81', order_type=None, price=6244.99, product_id='BTC-USD', reason=None, remaining_size='0.00150000', sequence=6180799410, side='sell', size=None, taker_order_id=None, time=datetime.datetime(2018, 6, 25, 10, 42, 59), trade_id=None, type='open'),\n",
       " Row(client_oid=None, funds=None, last_trade_id=None, maker_order_id=None, order_id='37a1f417-8648-463e-8fdd-47c3f19c756c', order_type=None, price=6181.69, product_id='BTC-USD', reason=None, remaining_size='0.76412900', sequence=6180799420, side='buy', size=None, taker_order_id=None, time=datetime.datetime(2018, 6, 25, 10, 42, 59), trade_id=None, type='open'),\n",
       " Row(client_oid=None, funds=None, last_trade_id=None, maker_order_id=None, order_id='4c2b499f-4f8a-4d24-a8b2-e28deba1b13c', order_type=None, price=6212.46, product_id='BTC-USD', reason=None, remaining_size='0.90000000', sequence=6180799431, side='sell', size=None, taker_order_id=None, time=datetime.datetime(2018, 6, 25, 10, 42, 59), trade_id=None, type='open'),\n",
       " Row(client_oid=None, funds=None, last_trade_id=None, maker_order_id=None, order_id='bfdea8d9-1c94-404e-a763-4467c810eb09', order_type=None, price=6210.6, product_id='BTC-USD', reason=None, remaining_size='0.90000000', sequence=6180799439, side='sell', size=None, taker_order_id=None, time=datetime.datetime(2018, 6, 25, 10, 42, 59), trade_id=None, type='open'),\n",
       " Row(client_oid=None, funds=None, last_trade_id=None, maker_order_id=None, order_id='a1b345f3-6cee-413f-ad63-3999ffd082bf', order_type=None, price=6180.92, product_id='BTC-USD', reason=None, remaining_size='0.90000000', sequence=6180799495, side='buy', size=None, taker_order_id=None, time=datetime.datetime(2018, 6, 25, 10, 42, 59), trade_id=None, type='open'),\n",
       " Row(client_oid=None, funds=None, last_trade_id=None, maker_order_id=None, order_id='c476d9b6-7fb9-4e4b-aee4-062eed47beea', order_type=None, price=6210.6, product_id='BTC-USD', reason=None, remaining_size='0.90000000', sequence=6180799497, side='sell', size=None, taker_order_id=None, time=datetime.datetime(2018, 6, 25, 10, 42, 59), trade_id=None, type='open'),\n",
       " Row(client_oid=None, funds=None, last_trade_id=None, maker_order_id=None, order_id='7994e5c4-88b4-4bf3-a2f4-13f5e5a2f01b', order_type=None, price=6181.68, product_id='BTC-USD', reason=None, remaining_size='0.76412900', sequence=6180799499, side='buy', size=None, taker_order_id=None, time=datetime.datetime(2018, 6, 25, 10, 42, 59), trade_id=None, type='open'),\n",
       " Row(client_oid=None, funds=None, last_trade_id=None, maker_order_id=None, order_id='e9c001f1-db36-4863-9897-69e93e92d485', order_type=None, price=6180.91, product_id='BTC-USD', reason=None, remaining_size='0.90000000', sequence=6180799530, side='buy', size=None, taker_order_id=None, time=datetime.datetime(2018, 6, 25, 10, 42, 59), trade_id=None, type='open'),\n",
       " Row(client_oid=None, funds=None, last_trade_id=None, maker_order_id=None, order_id='bc2b06aa-5c5d-4c76-8ef8-bbafaa955ce7', order_type=None, price=6210.6, product_id='BTC-USD', reason=None, remaining_size='0.90000000', sequence=6180799563, side='sell', size=None, taker_order_id=None, time=datetime.datetime(2018, 6, 25, 10, 42, 59), trade_id=None, type='open'),\n",
       " Row(client_oid=None, funds=None, last_trade_id=None, maker_order_id=None, order_id='a0bd089c-3012-45f2-99de-cd2fa479cfb2', order_type=None, price=6213.69, product_id='BTC-USD', reason=None, remaining_size='0.90000000', sequence=6180799580, side='sell', size=None, taker_order_id=None, time=datetime.datetime(2018, 6, 25, 10, 42, 59), trade_id=None, type='open'),\n",
       " Row(client_oid=None, funds=None, last_trade_id=None, maker_order_id=None, order_id='8fccbc55-d752-4998-878e-67cd11ebb346', order_type=None, price=6183.46, product_id='BTC-USD', reason=None, remaining_size='0.76412900', sequence=6180799584, side='buy', size=None, taker_order_id=None, time=datetime.datetime(2018, 6, 25, 10, 42, 59), trade_id=None, type='open'),\n",
       " Row(client_oid=None, funds=None, last_trade_id=None, maker_order_id=None, order_id='da0c9387-a406-4a7f-bae2-f9dbc9809ee7', order_type=None, price=6212.46, product_id='BTC-USD', reason=None, remaining_size='0.90000000', sequence=6180799608, side='sell', size=None, taker_order_id=None, time=datetime.datetime(2018, 6, 25, 10, 42, 59), trade_id=None, type='open'),\n",
       " Row(client_oid=None, funds=None, last_trade_id=None, maker_order_id=None, order_id='963b9a9f-3bd5-487b-a9f6-b022c7d901c0', order_type=None, price=6199.99, product_id='BTC-USD', reason=None, remaining_size='0.31370000', sequence=6180799620, side='sell', size=None, taker_order_id=None, time=datetime.datetime(2018, 6, 25, 10, 42, 59), trade_id=None, type='open'),\n",
       " Row(client_oid=None, funds=None, last_trade_id=None, maker_order_id=None, order_id='ffb94ac3-9b61-4437-8658-63144ae8f5a7', order_type=None, price=6213.7, product_id='BTC-USD', reason=None, remaining_size='0.90000000', sequence=6180799623, side='sell', size=None, taker_order_id=None, time=datetime.datetime(2018, 6, 25, 10, 42, 59), trade_id=None, type='open'),\n",
       " Row(client_oid=None, funds=None, last_trade_id=None, maker_order_id=None, order_id='a3d70835-2916-451f-b10a-4010d79c316b', order_type=None, price=6183.44, product_id='BTC-USD', reason=None, remaining_size='0.76412900', sequence=6180799707, side='buy', size=None, taker_order_id=None, time=datetime.datetime(2018, 6, 25, 10, 43), trade_id=None, type='open'),\n",
       " Row(client_oid=None, funds=None, last_trade_id=None, maker_order_id=None, order_id='2cb8e708-0cdc-4592-adfb-5c27cbdd0aad', order_type=None, price=6210.57, product_id='BTC-USD', reason=None, remaining_size='0.90000000', sequence=6180799709, side='sell', size=None, taker_order_id=None, time=datetime.datetime(2018, 6, 25, 10, 43), trade_id=None, type='open'),\n",
       " Row(client_oid=None, funds=None, last_trade_id=None, maker_order_id=None, order_id='57adf5f6-5f4d-4d9e-9165-a9bba0068bba', order_type=None, price=6210.57, product_id='BTC-USD', reason=None, remaining_size='0.90000000', sequence=6180799747, side='sell', size=None, taker_order_id=None, time=datetime.datetime(2018, 6, 25, 10, 43), trade_id=None, type='open'),\n",
       " Row(client_oid=None, funds=None, last_trade_id=None, maker_order_id=None, order_id='f8eb0581-07f1-47db-84a3-10454529a636', order_type=None, price=6183.44, product_id='BTC-USD', reason=None, remaining_size='0.76412900', sequence=6180799761, side='buy', size=None, taker_order_id=None, time=datetime.datetime(2018, 6, 25, 10, 43), trade_id=None, type='open'),\n",
       " Row(client_oid=None, funds=None, last_trade_id=None, maker_order_id=None, order_id='2c97fa03-e527-4d8c-a9b4-ceca66a2694a', order_type=None, price=6180.0, product_id='BTC-USD', reason=None, remaining_size='1.00000000', sequence=6180799780, side='buy', size=None, taker_order_id=None, time=datetime.datetime(2018, 6, 25, 10, 43), trade_id=None, type='open'),\n",
       " Row(client_oid=None, funds=None, last_trade_id=None, maker_order_id=None, order_id='bb284839-2e85-4fb1-81ec-3d7212f3295d', order_type=None, price=6164.07, product_id='BTC-USD', reason=None, remaining_size='0.00100000', sequence=6180799853, side='buy', size=None, taker_order_id=None, time=datetime.datetime(2018, 6, 25, 10, 43, 1), trade_id=None, type='open'),\n",
       " Row(client_oid=None, funds=None, last_trade_id=None, maker_order_id=None, order_id='d10bcd58-e207-4fff-aced-336e033453f5', order_type=None, price=6210.69, product_id='BTC-USD', reason=None, remaining_size='0.90000000', sequence=6180799872, side='sell', size=None, taker_order_id=None, time=datetime.datetime(2018, 6, 25, 10, 43, 1), trade_id=None, type='open'),\n",
       " Row(client_oid=None, funds=None, last_trade_id=None, maker_order_id=None, order_id='8147a8f5-fb04-4bba-beff-509478c2726a', order_type=None, price=6196.41, product_id='BTC-USD', reason=None, remaining_size='1.00000000', sequence=6180799878, side='buy', size=None, taker_order_id=None, time=datetime.datetime(2018, 6, 25, 10, 43, 1), trade_id=None, type='open')]"
      ]
     },
     "execution_count": 27,
     "metadata": {},
     "output_type": "execute_result"
    }
   ],
   "source": [
    "dataBTC_USD.filter(lambda x: x.type == \"open\").take(35)"
   ]
  },
  {
   "cell_type": "code",
   "execution_count": 10,
   "metadata": {},
   "outputs": [
    {
     "data": {
      "text/plain": [
       "[(datetime.datetime(2018, 6, 25, 10, 45, 4), (0.00108, 1)),\n",
       " (datetime.datetime(2018, 6, 25, 10, 45, 28), (0.00121067, 1)),\n",
       " (datetime.datetime(2018, 6, 25, 10, 45, 28), (0.05000727, 1))]"
      ]
     },
     "execution_count": 10,
     "metadata": {},
     "output_type": "execute_result"
    }
   ],
   "source": [
    "# Sacamos el tamaño de las órdenes matcheadas, su timestamp y creamos un contador.\n",
    "dataBTC_USD_match=dataBTC_USD.filter(lambda x: x.type == \"match\" and x.size != None and x.time.day != None).map(lambda x: (x.time, (x.size,1)))\n",
    "dataBTC_USD_match.take(3)\n"
   ]
  },
  {
   "cell_type": "code",
   "execution_count": 11,
   "metadata": {},
   "outputs": [
    {
     "data": {
      "text/plain": [
       "[(datetime.datetime(2018, 6, 25, 10, 45, 4), (0.00108, 1)),\n",
       " (datetime.datetime(2018, 6, 25, 10, 45, 28), (0.051217939999999997, 2)),\n",
       " (datetime.datetime(2018, 6, 25, 10, 47, 27), (0.2394, 1)),\n",
       " (datetime.datetime(2018, 6, 25, 10, 47, 44), (5.09e-06, 1)),\n",
       " (datetime.datetime(2018, 6, 25, 10, 48), (0.10248, 2)),\n",
       " (datetime.datetime(2018, 6, 25, 10, 48, 42), (1.0, 1)),\n",
       " (datetime.datetime(2018, 6, 25, 10, 48, 46), (0.50950307, 2)),\n",
       " (datetime.datetime(2018, 6, 25, 10, 50, 37), (0.2448, 1)),\n",
       " (datetime.datetime(2018, 6, 25, 10, 51, 10), (0.3724, 1)),\n",
       " (datetime.datetime(2018, 6, 25, 10, 54, 53), (0.0494, 1)),\n",
       " (datetime.datetime(2018, 6, 25, 10, 55, 4), (0.9916, 1)),\n",
       " (datetime.datetime(2018, 6, 25, 10, 55, 10), (0.00127, 1)),\n",
       " (datetime.datetime(2018, 6, 25, 10, 55, 34), (0.27798657000000004, 2)),\n",
       " (datetime.datetime(2018, 6, 25, 10, 56, 27), (0.35045698, 1)),\n",
       " (datetime.datetime(2018, 6, 25, 10, 56, 42), (0.16132961, 1)),\n",
       " (datetime.datetime(2018, 6, 25, 10, 57, 41), (0.023, 1)),\n",
       " (datetime.datetime(2018, 6, 25, 10, 58, 53), (0.0888, 1)),\n",
       " (datetime.datetime(2018, 6, 25, 11, 0, 10), (0.00103, 1)),\n",
       " (datetime.datetime(2018, 6, 25, 11, 1, 27), (0.7333, 1)),\n",
       " (datetime.datetime(2018, 6, 25, 11, 4, 38), (0.06267421, 3)),\n",
       " (datetime.datetime(2018, 6, 25, 11, 5, 48), (0.0922, 1)),\n",
       " (datetime.datetime(2018, 6, 25, 11, 6, 22), (0.03833516, 1)),\n",
       " (datetime.datetime(2018, 6, 25, 11, 6, 31), (0.25531537, 1)),\n",
       " (datetime.datetime(2018, 6, 25, 11, 6, 40), (1.08190318, 1)),\n",
       " (datetime.datetime(2018, 6, 25, 11, 6, 41), (0.17889379, 1)),\n",
       " (datetime.datetime(2018, 6, 25, 11, 6, 45), (0.0286, 2)),\n",
       " (datetime.datetime(2018, 6, 25, 11, 7, 4), (0.0012126, 1)),\n",
       " (datetime.datetime(2018, 6, 25, 11, 7, 6), (0.0012126, 1)),\n",
       " (datetime.datetime(2018, 6, 25, 11, 7, 14), (4.976917810000001, 3)),\n",
       " (datetime.datetime(2018, 6, 25, 11, 7, 42), (0.1223, 1))]"
      ]
     },
     "execution_count": 11,
     "metadata": {},
     "output_type": "execute_result"
    }
   ],
   "source": [
    "# ReduceByKey para tener para cada timestamp la suma del volumen y el número de matches.\n",
    "dataBTC_USD_match.reduceByKey(lambda x,y: (x[0]+y[0], x[1]+y[1])).take(30)"
   ]
  },
  {
   "cell_type": "code",
   "execution_count": 12,
   "metadata": {},
   "outputs": [],
   "source": [
    "# Añadimos el side y el precio\n",
    "dataBTC_USD_match=dataBTC_USD.filter(lambda x: x.type == \"match\" and x.size != None and x.time.day != None).map(lambda x: ((x.time, x.side), (x.size,x.price,1)))\n",
    "#dataBTC_USD_matchList=dataBTC_USD_match.reduceByKey(lambda x,y: (x[0]+y[0], x[1]+y[1], x[2]+y[2], list(x[3]+y[3]))).collect()"
   ]
  },
  {
   "cell_type": "code",
   "execution_count": 15,
   "metadata": {},
   "outputs": [
    {
     "data": {
      "text/plain": [
       "((datetime.datetime(2018, 6, 25, 16, 6, 16), 'sell'), (0.001, 6321.85, 1))"
      ]
     },
     "execution_count": 15,
     "metadata": {},
     "output_type": "execute_result"
    }
   ],
   "source": [
    "dataBTC_USD_match.max(lambda x: x[1][1])"
   ]
  },
  {
   "cell_type": "code",
   "execution_count": 13,
   "metadata": {},
   "outputs": [
    {
     "data": {
      "text/plain": [
       "[((datetime.datetime(2018, 6, 25, 10, 45, 4), 'buy'), (0.00108, 6194.11, 1)),\n",
       " ((datetime.datetime(2018, 6, 25, 10, 45, 28), 'sell'),\n",
       "  (0.051217939999999997, 12388.380000000001, 2)),\n",
       " ((datetime.datetime(2018, 6, 25, 10, 47, 27), 'sell'), (0.2394, 6193.62, 1)),\n",
       " ((datetime.datetime(2018, 6, 25, 10, 47, 44), 'buy'), (5.09e-06, 6193.11, 1)),\n",
       " ((datetime.datetime(2018, 6, 25, 10, 48), 'buy'), (0.10248, 12371.01, 2))]"
      ]
     },
     "execution_count": 13,
     "metadata": {},
     "output_type": "execute_result"
    }
   ],
   "source": [
    "dataBTC_USD_match.reduceByKey(lambda x,y: (x[0]+y[0], x[1]+y[1], x[2]+y[2])).take(5)"
   ]
  },
  {
   "cell_type": "code",
   "execution_count": 17,
   "metadata": {},
   "outputs": [
    {
     "data": {
      "text/plain": [
       "[('done', 'canceled', None),\n",
       " ('open', None, None),\n",
       " ('received', None, 'limit'),\n",
       " ('match', None, None),\n",
       " ('done', 'filled', None),\n",
       " ('heartbeat', None, None),\n",
       " ('received', None, 'market')]"
      ]
     },
     "execution_count": 17,
     "metadata": {},
     "output_type": "execute_result"
    }
   ],
   "source": [
    "# Sacamos los diferentes tipos de órdenes\n",
    "dataParsed.map(lambda x: (x.type, x.reason, x.order_type)).distinct().take(10)"
   ]
  },
  {
   "cell_type": "code",
   "execution_count": 18,
   "metadata": {},
   "outputs": [],
   "source": [
    "# Al no hacer sample debe haber alguna fila al final que me de problemas con el parseo\n",
    "# data = spark.read.json(data_file)\n",
    "# dataParsed = data.rdd.map(lambda x: parseaditoBomba(x))\n",
    "# dataBTC_USD=dataParsed.filter(lambda x: x.product_id == \"BTC-USD\")\n",
    "# dataBTC_USD=dataBTC_USD.filter(lambda x: x.type == \"match\" and x.size != None and x.time.day != None).map(lambda x: (x.time, (x.size,1)))\n",
    "# dataBTC_USD.reduceByKey(lambda x,y: (x[0]+y[0], x[1]+y[1])).take(3)"
   ]
  },
  {
   "cell_type": "markdown",
   "metadata": {},
   "source": [
    "### PARTE 2 - Añadiendo precio máximo y minimo"
   ]
  },
  {
   "cell_type": "code",
   "execution_count": 19,
   "metadata": {},
   "outputs": [
    {
     "data": {
      "text/plain": [
       "6194.11"
      ]
     },
     "execution_count": 19,
     "metadata": {},
     "output_type": "execute_result"
    }
   ],
   "source": [
    "dataBTC_USD_match.take(5)[0][1][1]"
   ]
  },
  {
   "cell_type": "code",
   "execution_count": 14,
   "metadata": {},
   "outputs": [
    {
     "data": {
      "text/plain": [
       "[(datetime.datetime(2018, 6, 25, 10, 45, 4), 'buy', 6194.11),\n",
       " (datetime.datetime(2018, 6, 25, 10, 45, 28), 'sell', 6194.14),\n",
       " (datetime.datetime(2018, 6, 25, 10, 45, 28), 'sell', 6194.24),\n",
       " (datetime.datetime(2018, 6, 25, 10, 47, 27), 'sell', 6193.62),\n",
       " (datetime.datetime(2018, 6, 25, 10, 47, 44), 'buy', 6193.11)]"
      ]
     },
     "execution_count": 14,
     "metadata": {},
     "output_type": "execute_result"
    }
   ],
   "source": [
    "dataBTC_USD_matchPrice = dataBTC_USD.filter(lambda x: x.type == \"match\" and x.size != None and x.time.day != None).map(lambda x: (x.time,x.side, x.price))\n",
    "dataBTC_USD_matchPrice.take(5)"
   ]
  },
  {
   "cell_type": "code",
   "execution_count": 15,
   "metadata": {},
   "outputs": [],
   "source": [
    "import pyspark.sql.functions as F\n",
    "DF_dataBTC_USD_matchPrice=dataBTC_USD_matchPrice.toDF([\"time\", \"side\",\"price\"])\n",
    "DF_dataBTC_USD_matchMaxPrice=DF_dataBTC_USD_matchPrice.groupBy(\"time\", \"side\").agg(F.max(\"price\").alias(\"max\")).rdd.map(lambda x: ((x.time, x.side),x.max))\n",
    "DF_dataBTC_USD_matchMinPrice=DF_dataBTC_USD_matchPrice.groupBy(\"time\", \"side\").agg(F.min(\"price\").alias(\"min\")).rdd.map(lambda x: ((x.time, x.side),x.min))"
   ]
  },
  {
   "cell_type": "code",
   "execution_count": 22,
   "metadata": {},
   "outputs": [
    {
     "data": {
      "text/plain": [
       "[Row(time=datetime.datetime(2018, 6, 25, 10, 45, 4), side='buy', price=6194.11),\n",
       " Row(time=datetime.datetime(2018, 6, 25, 10, 45, 28), side='sell', price=6194.14),\n",
       " Row(time=datetime.datetime(2018, 6, 25, 10, 45, 28), side='sell', price=6194.24)]"
      ]
     },
     "execution_count": 22,
     "metadata": {},
     "output_type": "execute_result"
    }
   ],
   "source": [
    "DF_dataBTC_USD_matchPrice.take(3)"
   ]
  },
  {
   "cell_type": "code",
   "execution_count": 16,
   "metadata": {},
   "outputs": [],
   "source": [
    "dataBTC_USD_matchReduced=dataBTC_USD_match.reduceByKey(lambda x,y: (x[0]+y[0], x[1]+y[1], x[2]+y[2]))\n",
    "dataBTC_USD_matchReducedMax=dataBTC_USD_matchReduced.leftOuterJoin(DF_dataBTC_USD_matchMaxPrice)\n",
    "dataBTC_USD_matchReducedDEF=dataBTC_USD_matchReducedMax.leftOuterJoin(DF_dataBTC_USD_matchMinPrice)"
   ]
  },
  {
   "cell_type": "code",
   "execution_count": null,
   "metadata": {},
   "outputs": [],
   "source": [
    "dataBTC_USD_matchReducedDEF.take(30)"
   ]
  },
  {
   "cell_type": "code",
   "execution_count": null,
   "metadata": {},
   "outputs": [],
   "source": [
    "dataBTC_USD_matchReducedDEF.count()"
   ]
  },
  {
   "cell_type": "code",
   "execution_count": null,
   "metadata": {},
   "outputs": [],
   "source": [
    "dataBTC_USD_matchReduced.count()"
   ]
  },
  {
   "cell_type": "code",
   "execution_count": 17,
   "metadata": {},
   "outputs": [
    {
     "data": {
      "text/plain": [
       "PythonRDD[64] at RDD at PythonRDD.scala:49"
      ]
     },
     "execution_count": 17,
     "metadata": {},
     "output_type": "execute_result"
    }
   ],
   "source": [
    "dataBTC_USD_matchReducedDEF.persist()"
   ]
  },
  {
   "cell_type": "code",
   "execution_count": 18,
   "metadata": {},
   "outputs": [
    {
     "data": {
      "text/plain": [
       "[(datetime.datetime(2018, 6, 25, 15, 41, 41),\n",
       "  'sell',\n",
       "  0.001,\n",
       "  6290.0,\n",
       "  1,\n",
       "  6290.0,\n",
       "  6290.0),\n",
       " (datetime.datetime(2018, 6, 25, 16, 12, 53),\n",
       "  'sell',\n",
       "  0.001,\n",
       "  6295.56,\n",
       "  1,\n",
       "  6295.56,\n",
       "  6295.56),\n",
       " (datetime.datetime(2018, 6, 25, 15, 43, 13),\n",
       "  'sell',\n",
       "  0.001,\n",
       "  6290.0,\n",
       "  1,\n",
       "  6290.0,\n",
       "  6290.0),\n",
       " (datetime.datetime(2018, 6, 25, 16, 14, 11),\n",
       "  'buy',\n",
       "  0.001,\n",
       "  6295.53,\n",
       "  1,\n",
       "  6295.53,\n",
       "  6295.53),\n",
       " (datetime.datetime(2018, 6, 25, 12, 20, 22),\n",
       "  'buy',\n",
       "  1.04205613,\n",
       "  6156.53,\n",
       "  1,\n",
       "  6156.53,\n",
       "  6156.53)]"
      ]
     },
     "execution_count": 18,
     "metadata": {},
     "output_type": "execute_result"
    }
   ],
   "source": [
    "dataBTC_USD_matchReducedDEFformated=dataBTC_USD_matchReducedDEF.mapValues(lambda x: x[0] + (x[1], )).map(lambda x: (x[0][0],x[0][1],x[1][0][0],x[1][0][1]/x[1][0][2],x[1][0][2],x[1][1],x[1][2]))\n",
    "dataBTC_USD_matchReducedDEFformated.take(5)"
   ]
  },
  {
   "cell_type": "code",
   "execution_count": 19,
   "metadata": {},
   "outputs": [],
   "source": [
    "DFdataBTC_USD_matchReducedDEF=dataBTC_USD_matchReducedDEFformated.toDF([\"time\",\"maker_side\",\"size\", \"price_mean\", \"num_orders\",\"price_max\",\"price_min\"])"
   ]
  },
  {
   "cell_type": "code",
   "execution_count": 20,
   "metadata": {},
   "outputs": [],
   "source": [
    "#DFdataBTC_USD_matchReducedDEF.write.option(\"header\", \"true\").csv(\"../Desktop/Data Science/00 -TFM/8- Fichero de prueba/BTC_USD_dataInput.csv\")"
   ]
  },
  {
   "cell_type": "code",
   "execution_count": 21,
   "metadata": {},
   "outputs": [
    {
     "data": {
      "text/plain": [
       "[Row(time=datetime.datetime(2018, 6, 25, 18, 31, 46), maker_side='sell', size=0.00185, price_mean=6278.75, num_orders=1, price_max=6278.75, price_min=6278.75),\n",
       " Row(time=datetime.datetime(2018, 6, 25, 18, 31, 34), maker_side='sell', size=0.1803, price_mean=6274.35, num_orders=1, price_max=6274.35, price_min=6274.35),\n",
       " Row(time=datetime.datetime(2018, 6, 25, 18, 30, 31), maker_side='sell', size=0.5208437, price_mean=6274.35, num_orders=4, price_max=6274.35, price_min=6274.35),\n",
       " Row(time=datetime.datetime(2018, 6, 25, 18, 29, 18), maker_side='buy', size=0.6315, price_mean=6276.0650000000005, num_orders=2, price_max=6277.12, price_min=6275.01),\n",
       " Row(time=datetime.datetime(2018, 6, 25, 18, 28, 46), maker_side='sell', size=0.0251, price_mean=6277.29, num_orders=1, price_max=6277.29, price_min=6277.29)]"
      ]
     },
     "execution_count": 21,
     "metadata": {},
     "output_type": "execute_result"
    }
   ],
   "source": [
    "from pyspark.sql.functions import col\n",
    "DFdataBTC_USD_matchReducedDEFSorted=DFdataBTC_USD_matchReducedDEF.sort(col(\"time\").desc())\n",
    "DFdataBTC_USD_matchReducedDEFSorted.take(5)"
   ]
  },
  {
   "cell_type": "code",
   "execution_count": 22,
   "metadata": {},
   "outputs": [
    {
     "data": {
      "text/plain": [
       "DataFrame[time: timestamp, maker_side: string, size: double, price_mean: double, num_orders: bigint, price_max: double, price_min: double]"
      ]
     },
     "execution_count": 22,
     "metadata": {},
     "output_type": "execute_result"
    }
   ],
   "source": [
    "DFdataBTC_USD_matchReducedDEFSorted.persist()"
   ]
  },
  {
   "cell_type": "code",
   "execution_count": 50,
   "metadata": {},
   "outputs": [],
   "source": [
    "a=DFdataBTC_USD_matchReducedDEFSorted.rdd.map(lambda x : (str(x[0]),x[1],x[2],x[3],x[4],x[5],x[6]))\n",
    "b=a.toDF()\n",
    "c=b.toPandas()\n"
   ]
  },
  {
   "cell_type": "markdown",
   "metadata": {},
   "source": [
    "## PARTE 3 - GAP OFERTA DEMANDA"
   ]
  },
  {
   "cell_type": "code",
   "execution_count": 24,
   "metadata": {},
   "outputs": [
    {
     "data": {
      "text/plain": [
       "[]"
      ]
     },
     "execution_count": 24,
     "metadata": {},
     "output_type": "execute_result"
    }
   ],
   "source": [
    "dataParsed.filter(lambda x: x.type == \"hertbreath\").take(5)"
   ]
  },
  {
   "cell_type": "code",
   "execution_count": null,
   "metadata": {},
   "outputs": [],
   "source": []
  },
  {
   "cell_type": "code",
   "execution_count": null,
   "metadata": {},
   "outputs": [],
   "source": []
  },
  {
   "cell_type": "code",
   "execution_count": null,
   "metadata": {},
   "outputs": [],
   "source": []
  },
  {
   "cell_type": "code",
   "execution_count": null,
   "metadata": {},
   "outputs": [],
   "source": [
    "import os \n",
    "os.environ.get('TZ', 'dateutil/:')\n",
    "#DFdataBTC_USD_matchReducedDEF.toPandas(9)"
   ]
  }
 ],
 "metadata": {
  "kernelspec": {
   "display_name": "Python 3",
   "language": "python",
   "name": "python3"
  },
  "language_info": {
   "codemirror_mode": {
    "name": "ipython",
    "version": 3
   },
   "file_extension": ".py",
   "mimetype": "text/x-python",
   "name": "python",
   "nbconvert_exporter": "python",
   "pygments_lexer": "ipython3",
   "version": "3.6.4"
  }
 },
 "nbformat": 4,
 "nbformat_minor": 2
}
