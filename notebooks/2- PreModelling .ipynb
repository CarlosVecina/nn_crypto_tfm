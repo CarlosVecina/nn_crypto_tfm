{
 "cells": [
  {
   "cell_type": "code",
   "execution_count": 55,
   "metadata": {},
   "outputs": [],
   "source": [
    "import matplotlib.pyplot as plt\n",
    "import pandas as pd\n",
    "import datetime as dt\n",
    "import urllib.request, json\n",
    "import os\n",
    "import numpy as np\n",
    "import tensorflow as tf # This code has been tested with TensorFlow 1.6\n",
    "import sklearn.preprocessing as skl\n",
    "import numpy as np"
   ]
  },
  {
   "cell_type": "code",
   "execution_count": 56,
   "metadata": {},
   "outputs": [
    {
     "data": {
      "text/plain": [
       "'C:\\\\Users\\\\Carlos\\\\Desktop\\\\Data Science\\\\00 -TFM\\\\9- Parsing & Modelling'"
      ]
     },
     "execution_count": 56,
     "metadata": {},
     "output_type": "execute_result"
    }
   ],
   "source": [
    "import os\n",
    "os.getcwd()"
   ]
  },
  {
   "cell_type": "code",
   "execution_count": 57,
   "metadata": {},
   "outputs": [
    {
     "data": {
      "text/html": [
       "<div>\n",
       "<style scoped>\n",
       "    .dataframe tbody tr th:only-of-type {\n",
       "        vertical-align: middle;\n",
       "    }\n",
       "\n",
       "    .dataframe tbody tr th {\n",
       "        vertical-align: top;\n",
       "    }\n",
       "\n",
       "    .dataframe thead th {\n",
       "        text-align: right;\n",
       "    }\n",
       "</style>\n",
       "<table border=\"1\" class=\"dataframe\">\n",
       "  <thead>\n",
       "    <tr style=\"text-align: right;\">\n",
       "      <th></th>\n",
       "      <th>time</th>\n",
       "      <th>maker_side</th>\n",
       "      <th>size</th>\n",
       "      <th>price_mean</th>\n",
       "      <th>num_orders</th>\n",
       "      <th>price_max</th>\n",
       "      <th>price_min</th>\n",
       "    </tr>\n",
       "  </thead>\n",
       "  <tbody>\n",
       "    <tr>\n",
       "      <th>0</th>\n",
       "      <td>2018-06-25 18:31:46</td>\n",
       "      <td>sell</td>\n",
       "      <td>0.001850</td>\n",
       "      <td>6278.750</td>\n",
       "      <td>1</td>\n",
       "      <td>6278.75</td>\n",
       "      <td>6278.75</td>\n",
       "    </tr>\n",
       "    <tr>\n",
       "      <th>1</th>\n",
       "      <td>2018-06-25 18:31:34</td>\n",
       "      <td>sell</td>\n",
       "      <td>0.180300</td>\n",
       "      <td>6274.350</td>\n",
       "      <td>1</td>\n",
       "      <td>6274.35</td>\n",
       "      <td>6274.35</td>\n",
       "    </tr>\n",
       "    <tr>\n",
       "      <th>2</th>\n",
       "      <td>2018-06-25 18:30:31</td>\n",
       "      <td>sell</td>\n",
       "      <td>0.520844</td>\n",
       "      <td>6274.350</td>\n",
       "      <td>4</td>\n",
       "      <td>6274.35</td>\n",
       "      <td>6274.35</td>\n",
       "    </tr>\n",
       "    <tr>\n",
       "      <th>3</th>\n",
       "      <td>2018-06-25 18:29:18</td>\n",
       "      <td>buy</td>\n",
       "      <td>0.631500</td>\n",
       "      <td>6276.065</td>\n",
       "      <td>2</td>\n",
       "      <td>6277.12</td>\n",
       "      <td>6275.01</td>\n",
       "    </tr>\n",
       "    <tr>\n",
       "      <th>4</th>\n",
       "      <td>2018-06-25 18:28:46</td>\n",
       "      <td>sell</td>\n",
       "      <td>0.025100</td>\n",
       "      <td>6277.290</td>\n",
       "      <td>1</td>\n",
       "      <td>6277.29</td>\n",
       "      <td>6277.29</td>\n",
       "    </tr>\n",
       "  </tbody>\n",
       "</table>\n",
       "</div>"
      ],
      "text/plain": [
       "                  time maker_side      size  price_mean  num_orders  \\\n",
       "0  2018-06-25 18:31:46       sell  0.001850    6278.750           1   \n",
       "1  2018-06-25 18:31:34       sell  0.180300    6274.350           1   \n",
       "2  2018-06-25 18:30:31       sell  0.520844    6274.350           4   \n",
       "3  2018-06-25 18:29:18        buy  0.631500    6276.065           2   \n",
       "4  2018-06-25 18:28:46       sell  0.025100    6277.290           1   \n",
       "\n",
       "   price_max  price_min  \n",
       "0    6278.75    6278.75  \n",
       "1    6274.35    6274.35  \n",
       "2    6274.35    6274.35  \n",
       "3    6277.12    6275.01  \n",
       "4    6277.29    6277.29  "
      ]
     },
     "execution_count": 57,
     "metadata": {},
     "output_type": "execute_result"
    }
   ],
   "source": [
    "datosMatchPrices10=pd.read_csv(\"dataMatchPrices10.csv\")\n",
    "datosMatchPrices10.head()\n"
   ]
  },
  {
   "cell_type": "code",
   "execution_count": 58,
   "metadata": {},
   "outputs": [
    {
     "data": {
      "text/html": [
       "<div>\n",
       "<style scoped>\n",
       "    .dataframe tbody tr th:only-of-type {\n",
       "        vertical-align: middle;\n",
       "    }\n",
       "\n",
       "    .dataframe tbody tr th {\n",
       "        vertical-align: top;\n",
       "    }\n",
       "\n",
       "    .dataframe thead th {\n",
       "        text-align: right;\n",
       "    }\n",
       "</style>\n",
       "<table border=\"1\" class=\"dataframe\">\n",
       "  <thead>\n",
       "    <tr style=\"text-align: right;\">\n",
       "      <th></th>\n",
       "      <th>time</th>\n",
       "      <th>maker_side</th>\n",
       "      <th>size</th>\n",
       "      <th>price_mean</th>\n",
       "      <th>num_orders</th>\n",
       "      <th>price_max</th>\n",
       "      <th>price_min</th>\n",
       "    </tr>\n",
       "  </thead>\n",
       "  <tbody>\n",
       "    <tr>\n",
       "      <th>2482</th>\n",
       "      <td>2018-06-25 10:45:04</td>\n",
       "      <td>buy</td>\n",
       "      <td>0.001080</td>\n",
       "      <td>6194.110</td>\n",
       "      <td>1</td>\n",
       "      <td>6194.11</td>\n",
       "      <td>6194.11</td>\n",
       "    </tr>\n",
       "    <tr>\n",
       "      <th>2481</th>\n",
       "      <td>2018-06-25 10:45:28</td>\n",
       "      <td>sell</td>\n",
       "      <td>0.051218</td>\n",
       "      <td>6194.190</td>\n",
       "      <td>2</td>\n",
       "      <td>6194.24</td>\n",
       "      <td>6194.14</td>\n",
       "    </tr>\n",
       "    <tr>\n",
       "      <th>2480</th>\n",
       "      <td>2018-06-25 10:47:27</td>\n",
       "      <td>sell</td>\n",
       "      <td>0.239400</td>\n",
       "      <td>6193.620</td>\n",
       "      <td>1</td>\n",
       "      <td>6193.62</td>\n",
       "      <td>6193.62</td>\n",
       "    </tr>\n",
       "    <tr>\n",
       "      <th>2479</th>\n",
       "      <td>2018-06-25 10:47:44</td>\n",
       "      <td>buy</td>\n",
       "      <td>0.000005</td>\n",
       "      <td>6193.110</td>\n",
       "      <td>1</td>\n",
       "      <td>6193.11</td>\n",
       "      <td>6193.11</td>\n",
       "    </tr>\n",
       "    <tr>\n",
       "      <th>2478</th>\n",
       "      <td>2018-06-25 10:48:00</td>\n",
       "      <td>buy</td>\n",
       "      <td>0.102480</td>\n",
       "      <td>6185.505</td>\n",
       "      <td>2</td>\n",
       "      <td>6187.50</td>\n",
       "      <td>6183.51</td>\n",
       "    </tr>\n",
       "  </tbody>\n",
       "</table>\n",
       "</div>"
      ],
      "text/plain": [
       "                     time maker_side      size  price_mean  num_orders  \\\n",
       "2482  2018-06-25 10:45:04        buy  0.001080    6194.110           1   \n",
       "2481  2018-06-25 10:45:28       sell  0.051218    6194.190           2   \n",
       "2480  2018-06-25 10:47:27       sell  0.239400    6193.620           1   \n",
       "2479  2018-06-25 10:47:44        buy  0.000005    6193.110           1   \n",
       "2478  2018-06-25 10:48:00        buy  0.102480    6185.505           2   \n",
       "\n",
       "      price_max  price_min  \n",
       "2482    6194.11    6194.11  \n",
       "2481    6194.24    6194.14  \n",
       "2480    6193.62    6193.62  \n",
       "2479    6193.11    6193.11  \n",
       "2478    6187.50    6183.51  "
      ]
     },
     "execution_count": 58,
     "metadata": {},
     "output_type": "execute_result"
    }
   ],
   "source": [
    "datosMatchPrices10 = datosMatchPrices10.sort_values('time',ascending=True)\n",
    "datosMatchPrices10.head()"
   ]
  },
  {
   "cell_type": "code",
   "execution_count": 59,
   "metadata": {},
   "outputs": [
    {
     "data": {
      "image/png": "[encoded data removed]",
      "text/plain": [
       "<matplotlib.figure.Figure at 0x296b151aac8>"
      ]
     },
     "metadata": {},
     "output_type": "display_data"
    }
   ],
   "source": [
    "plt.figure(figsize = (18,9))\n",
    "plt.plot(range(datosMatchPrices10.shape[0]),(datosMatchPrices10['price_mean']))\n",
    "plt.xticks(range(0,datosMatchPrices10.shape[0],500),datosMatchPrices10['time'].loc[::500],rotation=45)\n",
    "plt.xlabel('time',fontsize=18)\n",
    "plt.ylabel('Mean Price',fontsize=18)\n",
    "plt.show()"
   ]
  },
  {
   "cell_type": "code",
   "execution_count": 60,
   "metadata": {},
   "outputs": [
    {
     "data": {
      "text/plain": [
       "1242"
      ]
     },
     "execution_count": 60,
     "metadata": {},
     "output_type": "execute_result"
    }
   ],
   "source": [
    "# Dividimos en Train y Test\n",
    "round(len(datosMatchPrices10)/2)\n",
    "#matrixDatosMatchPrices10=datosMatchPrices10.as_matrix()"
   ]
  },
  {
   "cell_type": "code",
   "execution_count": 61,
   "metadata": {},
   "outputs": [
    {
     "data": {
      "text/html": [
       "<div>\n",
       "<style scoped>\n",
       "    .dataframe tbody tr th:only-of-type {\n",
       "        vertical-align: middle;\n",
       "    }\n",
       "\n",
       "    .dataframe tbody tr th {\n",
       "        vertical-align: top;\n",
       "    }\n",
       "\n",
       "    .dataframe thead th {\n",
       "        text-align: right;\n",
       "    }\n",
       "</style>\n",
       "<table border=\"1\" class=\"dataframe\">\n",
       "  <thead>\n",
       "    <tr style=\"text-align: right;\">\n",
       "      <th></th>\n",
       "      <th>time</th>\n",
       "      <th>maker_side</th>\n",
       "      <th>size</th>\n",
       "      <th>price_mean</th>\n",
       "      <th>num_orders</th>\n",
       "      <th>price_max</th>\n",
       "      <th>price_min</th>\n",
       "    </tr>\n",
       "  </thead>\n",
       "  <tbody>\n",
       "    <tr>\n",
       "      <th>2482</th>\n",
       "      <td>2018-06-25 10:45:04</td>\n",
       "      <td>buy</td>\n",
       "      <td>0.001080</td>\n",
       "      <td>6194.110</td>\n",
       "      <td>1</td>\n",
       "      <td>6194.11</td>\n",
       "      <td>6194.11</td>\n",
       "    </tr>\n",
       "    <tr>\n",
       "      <th>2481</th>\n",
       "      <td>2018-06-25 10:45:28</td>\n",
       "      <td>sell</td>\n",
       "      <td>0.051218</td>\n",
       "      <td>6194.190</td>\n",
       "      <td>2</td>\n",
       "      <td>6194.24</td>\n",
       "      <td>6194.14</td>\n",
       "    </tr>\n",
       "    <tr>\n",
       "      <th>2480</th>\n",
       "      <td>2018-06-25 10:47:27</td>\n",
       "      <td>sell</td>\n",
       "      <td>0.239400</td>\n",
       "      <td>6193.620</td>\n",
       "      <td>1</td>\n",
       "      <td>6193.62</td>\n",
       "      <td>6193.62</td>\n",
       "    </tr>\n",
       "    <tr>\n",
       "      <th>2479</th>\n",
       "      <td>2018-06-25 10:47:44</td>\n",
       "      <td>buy</td>\n",
       "      <td>0.000005</td>\n",
       "      <td>6193.110</td>\n",
       "      <td>1</td>\n",
       "      <td>6193.11</td>\n",
       "      <td>6193.11</td>\n",
       "    </tr>\n",
       "    <tr>\n",
       "      <th>2478</th>\n",
       "      <td>2018-06-25 10:48:00</td>\n",
       "      <td>buy</td>\n",
       "      <td>0.102480</td>\n",
       "      <td>6185.505</td>\n",
       "      <td>2</td>\n",
       "      <td>6187.50</td>\n",
       "      <td>6183.51</td>\n",
       "    </tr>\n",
       "  </tbody>\n",
       "</table>\n",
       "</div>"
      ],
      "text/plain": [
       "                     time maker_side      size  price_mean  num_orders  \\\n",
       "2482  2018-06-25 10:45:04        buy  0.001080    6194.110           1   \n",
       "2481  2018-06-25 10:45:28       sell  0.051218    6194.190           2   \n",
       "2480  2018-06-25 10:47:27       sell  0.239400    6193.620           1   \n",
       "2479  2018-06-25 10:47:44        buy  0.000005    6193.110           1   \n",
       "2478  2018-06-25 10:48:00        buy  0.102480    6185.505           2   \n",
       "\n",
       "      price_max  price_min  \n",
       "2482    6194.11    6194.11  \n",
       "2481    6194.24    6194.14  \n",
       "2480    6193.62    6193.62  \n",
       "2479    6193.11    6193.11  \n",
       "2478    6187.50    6183.51  "
      ]
     },
     "execution_count": 61,
     "metadata": {},
     "output_type": "execute_result"
    }
   ],
   "source": [
    "train_data = datosMatchPrices10[:1242]\n",
    "test_data = datosMatchPrices10[1242:]\n",
    "train_data.head()"
   ]
  },
  {
   "cell_type": "code",
   "execution_count": 62,
   "metadata": {},
   "outputs": [],
   "source": [
    "# num_cols = train_data.columns[train_data.dtypes.apply(lambda c: np.issubdtype(c, np.number))]\n",
    "# scaler = skl.StandardScaler()\n",
    "\n",
    "# scaler.fit(train_data[num_cols])\n",
    "# train_data[num_cols]=scaler.transform(train_data[num_cols])\n",
    "# test_data[num_cols]=scaler.transform(test_data[num_cols])\n",
    "# test_data"
   ]
  },
  {
   "cell_type": "code",
   "execution_count": 63,
   "metadata": {},
   "outputs": [
    {
     "data": {
      "text/plain": [
       "array([['2018-06-25 10:45:04', 'buy', 0.00108, ..., 1, 6194.11, 6194.11],\n",
       "       ['2018-06-25 10:45:28', 'sell', 0.05121794, ..., 2, 6194.24,\n",
       "        6194.14],\n",
       "       ['2018-06-25 10:47:27', 'sell', 0.2394, ..., 1, 6193.62, 6193.62],\n",
       "       ...,\n",
       "       ['2018-06-25 15:55:59', 'sell', 0.001, ..., 1, 6280.0, 6280.0],\n",
       "       ['2018-06-25 15:56:00', 'sell', 0.001, ..., 1, 6280.0, 6280.0],\n",
       "       ['2018-06-25 15:56:05', 'buy', 0.002, ..., 2, 6279.99, 6279.99]],\n",
       "      dtype=object)"
      ]
     },
     "execution_count": 63,
     "metadata": {},
     "output_type": "execute_result"
    }
   ],
   "source": [
    "train_data=train_data.as_matrix()\n",
    "test_data=test_data.as_matrix()\n",
    "train_data"
   ]
  },
  {
   "cell_type": "code",
   "execution_count": 64,
   "metadata": {},
   "outputs": [
    {
     "data": {
      "text/plain": [
       "8694"
      ]
     },
     "execution_count": 64,
     "metadata": {},
     "output_type": "execute_result"
    }
   ],
   "source": [
    "#MSE\n",
    "window_size = 100\n",
    "N = train_data.size\n",
    "std_avg_predictions = []\n",
    "std_avg_x = []\n",
    "mse_errors = []\n",
    "\n",
    "N"
   ]
  },
  {
   "cell_type": "code",
   "execution_count": 65,
   "metadata": {},
   "outputs": [
    {
     "data": {
      "text/plain": [
       "1242"
      ]
     },
     "execution_count": 65,
     "metadata": {},
     "output_type": "execute_result"
    }
   ],
   "source": [
    "len(train_data)"
   ]
  },
  {
   "cell_type": "code",
   "execution_count": 66,
   "metadata": {},
   "outputs": [
    {
     "data": {
      "text/plain": [
       "array([['2018-06-25 10:45:04', 'buy', 0.00108, ..., 1, 6194.11, 6194.11],\n",
       "       ['2018-06-25 10:45:28', 'sell', 0.05121794, ..., 2, 6194.24,\n",
       "        6194.14],\n",
       "       ['2018-06-25 10:47:27', 'sell', 0.2394, ..., 1, 6193.62, 6193.62],\n",
       "       ...,\n",
       "       ['2018-06-25 15:55:59', 'sell', 0.001, ..., 1, 6280.0, 6280.0],\n",
       "       ['2018-06-25 15:56:00', 'sell', 0.001, ..., 1, 6280.0, 6280.0],\n",
       "       ['2018-06-25 15:56:05', 'buy', 0.002, ..., 2, 6279.99, 6279.99]],\n",
       "      dtype=object)"
      ]
     },
     "execution_count": 66,
     "metadata": {},
     "output_type": "execute_result"
    }
   ],
   "source": [
    "train_data[:,:]"
   ]
  },
  {
   "cell_type": "code",
   "execution_count": 67,
   "metadata": {},
   "outputs": [],
   "source": [
    "def running_mean(x, N):\n",
    "    cumsum = np.cumsum(np.insert(x, 0, 0)) \n",
    "    return np.append([0]*(N-1),(cumsum[N:] - cumsum[:-N]) / float(N))"
   ]
  },
  {
   "cell_type": "code",
   "execution_count": 68,
   "metadata": {},
   "outputs": [],
   "source": [
    "MA10=running_mean(train_data[:,3],10)"
   ]
  },
  {
   "cell_type": "code",
   "execution_count": 69,
   "metadata": {},
   "outputs": [
    {
     "data": {
      "text/plain": [
       "(1242, 7)"
      ]
     },
     "execution_count": 69,
     "metadata": {},
     "output_type": "execute_result"
    }
   ],
   "source": [
    "train_data.shape"
   ]
  },
  {
   "cell_type": "code",
   "execution_count": 70,
   "metadata": {},
   "outputs": [
    {
     "data": {
      "text/plain": [
       "array([[0],\n",
       "       [0],\n",
       "       [0],\n",
       "       ...,\n",
       "       [6279.994000000134],\n",
       "       [6279.994000000134],\n",
       "       [6279.993000000157]], dtype=object)"
      ]
     },
     "execution_count": 70,
     "metadata": {},
     "output_type": "execute_result"
    }
   ],
   "source": [
    "MA10=MA10.reshape(MA10.shape[0],1)\n",
    "MA10"
   ]
  },
  {
   "cell_type": "code",
   "execution_count": 71,
   "metadata": {},
   "outputs": [],
   "source": [
    "# AÑADIMOS LA MA10 al train_data\n",
    "train_data=np.concatenate((train_data,MA10), axis=1)"
   ]
  },
  {
   "cell_type": "code",
   "execution_count": 72,
   "metadata": {},
   "outputs": [
    {
     "data": {
      "text/plain": [
       "array([0, 0, 0, ..., 6279.994000000134, 6279.994000000134,\n",
       "       6279.993000000157], dtype=object)"
      ]
     },
     "execution_count": 72,
     "metadata": {},
     "output_type": "execute_result"
    }
   ],
   "source": [
    "train_data[:,7]"
   ]
  },
  {
   "cell_type": "code",
   "execution_count": 73,
   "metadata": {},
   "outputs": [],
   "source": [
    "#pandas_train_data=pandas_train_data[pandas_train_data.MA10>0]"
   ]
  },
  {
   "cell_type": "markdown",
   "metadata": {},
   "source": [
    "## Lagging price "
   ]
  },
  {
   "cell_type": "code",
   "execution_count": 74,
   "metadata": {},
   "outputs": [],
   "source": [
    "pandas_train_data=pd.DataFrame(train_data, columns=[\"time\", \"side_maker\", \"size\", \"meanPrice\", \"nOrders\", \"maxPrice\", \"minPrice\", \"MA10\" ])"
   ]
  },
  {
   "cell_type": "code",
   "execution_count": 75,
   "metadata": {},
   "outputs": [],
   "source": [
    "pandas_train_data= pandas_train_data[[\"time\", \"maxPrice\", \"size\", \"meanPrice\", \"minPrice\", \"MA10\", \"nOrders\", \"side_maker\"]]"
   ]
  },
  {
   "cell_type": "code",
   "execution_count": 76,
   "metadata": {},
   "outputs": [],
   "source": [
    "#pandas_train_data.columns = [\"time\", \"maxPrice\",\"maxPriceLagged\", \"size\", \"meanPrice\", \"minPrice\", \"MA10\", \"nOrders\", \"side_maker\"]"
   ]
  },
  {
   "cell_type": "code",
   "execution_count": 77,
   "metadata": {},
   "outputs": [
    {
     "data": {
      "text/html": [
       "<div>\n",
       "<style scoped>\n",
       "    .dataframe tbody tr th:only-of-type {\n",
       "        vertical-align: middle;\n",
       "    }\n",
       "\n",
       "    .dataframe tbody tr th {\n",
       "        vertical-align: top;\n",
       "    }\n",
       "\n",
       "    .dataframe thead th {\n",
       "        text-align: right;\n",
       "    }\n",
       "</style>\n",
       "<table border=\"1\" class=\"dataframe\">\n",
       "  <thead>\n",
       "    <tr style=\"text-align: right;\">\n",
       "      <th></th>\n",
       "      <th>time</th>\n",
       "      <th>maxPrice</th>\n",
       "      <th>size</th>\n",
       "      <th>meanPrice</th>\n",
       "      <th>minPrice</th>\n",
       "      <th>MA10</th>\n",
       "      <th>nOrders</th>\n",
       "      <th>side_maker</th>\n",
       "    </tr>\n",
       "  </thead>\n",
       "  <tbody>\n",
       "    <tr>\n",
       "      <th>0</th>\n",
       "      <td>2018-06-25 10:45:04</td>\n",
       "      <td>6194.11</td>\n",
       "      <td>0.00108</td>\n",
       "      <td>6194.11</td>\n",
       "      <td>6194.11</td>\n",
       "      <td>0</td>\n",
       "      <td>1</td>\n",
       "      <td>buy</td>\n",
       "    </tr>\n",
       "    <tr>\n",
       "      <th>1</th>\n",
       "      <td>2018-06-25 10:45:28</td>\n",
       "      <td>6194.24</td>\n",
       "      <td>0.0512179</td>\n",
       "      <td>6194.19</td>\n",
       "      <td>6194.14</td>\n",
       "      <td>0</td>\n",
       "      <td>2</td>\n",
       "      <td>sell</td>\n",
       "    </tr>\n",
       "    <tr>\n",
       "      <th>2</th>\n",
       "      <td>2018-06-25 10:47:27</td>\n",
       "      <td>6193.62</td>\n",
       "      <td>0.2394</td>\n",
       "      <td>6193.62</td>\n",
       "      <td>6193.62</td>\n",
       "      <td>0</td>\n",
       "      <td>1</td>\n",
       "      <td>sell</td>\n",
       "    </tr>\n",
       "    <tr>\n",
       "      <th>3</th>\n",
       "      <td>2018-06-25 10:47:44</td>\n",
       "      <td>6193.11</td>\n",
       "      <td>5.09e-06</td>\n",
       "      <td>6193.11</td>\n",
       "      <td>6193.11</td>\n",
       "      <td>0</td>\n",
       "      <td>1</td>\n",
       "      <td>buy</td>\n",
       "    </tr>\n",
       "    <tr>\n",
       "      <th>4</th>\n",
       "      <td>2018-06-25 10:48:00</td>\n",
       "      <td>6187.5</td>\n",
       "      <td>0.10248</td>\n",
       "      <td>6185.51</td>\n",
       "      <td>6183.51</td>\n",
       "      <td>0</td>\n",
       "      <td>2</td>\n",
       "      <td>buy</td>\n",
       "    </tr>\n",
       "  </tbody>\n",
       "</table>\n",
       "</div>"
      ],
      "text/plain": [
       "                  time maxPrice       size meanPrice minPrice MA10 nOrders  \\\n",
       "0  2018-06-25 10:45:04  6194.11    0.00108   6194.11  6194.11    0       1   \n",
       "1  2018-06-25 10:45:28  6194.24  0.0512179   6194.19  6194.14    0       2   \n",
       "2  2018-06-25 10:47:27  6193.62     0.2394   6193.62  6193.62    0       1   \n",
       "3  2018-06-25 10:47:44  6193.11   5.09e-06   6193.11  6193.11    0       1   \n",
       "4  2018-06-25 10:48:00   6187.5    0.10248   6185.51  6183.51    0       2   \n",
       "\n",
       "  side_maker  \n",
       "0        buy  \n",
       "1       sell  \n",
       "2       sell  \n",
       "3        buy  \n",
       "4        buy  "
      ]
     },
     "execution_count": 77,
     "metadata": {},
     "output_type": "execute_result"
    }
   ],
   "source": [
    "pandas_train_data.head()"
   ]
  },
  {
   "cell_type": "code",
   "execution_count": 78,
   "metadata": {},
   "outputs": [
    {
     "data": {
      "text/plain": [
       "[1, 2]"
      ]
     },
     "execution_count": 78,
     "metadata": {},
     "output_type": "execute_result"
    }
   ],
   "source": [
    "#pandas_train_data.maxPriceLagged=pandas_train_data.maxPriceLagged.shift(-1)\n",
    "list(range(1,3))"
   ]
  },
  {
   "cell_type": "code",
   "execution_count": 79,
   "metadata": {},
   "outputs": [],
   "source": [
    "lags = range(1,3)\n",
    "pandas_train_data_lagged=pandas_train_data.assign(**{\n",
    "    \"{}_lagg_{}\".format(col, -t): pandas_train_data[col].shift(t)\n",
    "    for t in lags\n",
    "    for col in pandas_train_data\n",
    "})"
   ]
  },
  {
   "cell_type": "code",
   "execution_count": 80,
   "metadata": {},
   "outputs": [
    {
     "data": {
      "text/html": [
       "<div>\n",
       "<style scoped>\n",
       "    .dataframe tbody tr th:only-of-type {\n",
       "        vertical-align: middle;\n",
       "    }\n",
       "\n",
       "    .dataframe tbody tr th {\n",
       "        vertical-align: top;\n",
       "    }\n",
       "\n",
       "    .dataframe thead th {\n",
       "        text-align: right;\n",
       "    }\n",
       "</style>\n",
       "<table border=\"1\" class=\"dataframe\">\n",
       "  <thead>\n",
       "    <tr style=\"text-align: right;\">\n",
       "      <th></th>\n",
       "      <th>time</th>\n",
       "      <th>maxPrice</th>\n",
       "      <th>size</th>\n",
       "      <th>meanPrice</th>\n",
       "      <th>minPrice</th>\n",
       "      <th>MA10</th>\n",
       "      <th>nOrders</th>\n",
       "      <th>side_maker</th>\n",
       "      <th>time_lagg_-1</th>\n",
       "      <th>maxPrice_lagg_-1</th>\n",
       "      <th>...</th>\n",
       "      <th>nOrders_lagg_-1</th>\n",
       "      <th>side_maker_lagg_-1</th>\n",
       "      <th>time_lagg_-2</th>\n",
       "      <th>maxPrice_lagg_-2</th>\n",
       "      <th>size_lagg_-2</th>\n",
       "      <th>meanPrice_lagg_-2</th>\n",
       "      <th>minPrice_lagg_-2</th>\n",
       "      <th>MA10_lagg_-2</th>\n",
       "      <th>nOrders_lagg_-2</th>\n",
       "      <th>side_maker_lagg_-2</th>\n",
       "    </tr>\n",
       "  </thead>\n",
       "  <tbody>\n",
       "    <tr>\n",
       "      <th>0</th>\n",
       "      <td>2018-06-25 10:45:04</td>\n",
       "      <td>6194.11</td>\n",
       "      <td>0.00108</td>\n",
       "      <td>6194.11</td>\n",
       "      <td>6194.11</td>\n",
       "      <td>0</td>\n",
       "      <td>1</td>\n",
       "      <td>buy</td>\n",
       "      <td>NaN</td>\n",
       "      <td>NaN</td>\n",
       "      <td>...</td>\n",
       "      <td>NaN</td>\n",
       "      <td>NaN</td>\n",
       "      <td>NaN</td>\n",
       "      <td>NaN</td>\n",
       "      <td>NaN</td>\n",
       "      <td>NaN</td>\n",
       "      <td>NaN</td>\n",
       "      <td>NaN</td>\n",
       "      <td>NaN</td>\n",
       "      <td>NaN</td>\n",
       "    </tr>\n",
       "    <tr>\n",
       "      <th>1</th>\n",
       "      <td>2018-06-25 10:45:28</td>\n",
       "      <td>6194.24</td>\n",
       "      <td>0.0512179</td>\n",
       "      <td>6194.19</td>\n",
       "      <td>6194.14</td>\n",
       "      <td>0</td>\n",
       "      <td>2</td>\n",
       "      <td>sell</td>\n",
       "      <td>2018-06-25 10:45:04</td>\n",
       "      <td>6194.11</td>\n",
       "      <td>...</td>\n",
       "      <td>1</td>\n",
       "      <td>buy</td>\n",
       "      <td>NaN</td>\n",
       "      <td>NaN</td>\n",
       "      <td>NaN</td>\n",
       "      <td>NaN</td>\n",
       "      <td>NaN</td>\n",
       "      <td>NaN</td>\n",
       "      <td>NaN</td>\n",
       "      <td>NaN</td>\n",
       "    </tr>\n",
       "    <tr>\n",
       "      <th>2</th>\n",
       "      <td>2018-06-25 10:47:27</td>\n",
       "      <td>6193.62</td>\n",
       "      <td>0.2394</td>\n",
       "      <td>6193.62</td>\n",
       "      <td>6193.62</td>\n",
       "      <td>0</td>\n",
       "      <td>1</td>\n",
       "      <td>sell</td>\n",
       "      <td>2018-06-25 10:45:28</td>\n",
       "      <td>6194.24</td>\n",
       "      <td>...</td>\n",
       "      <td>2</td>\n",
       "      <td>sell</td>\n",
       "      <td>2018-06-25 10:45:04</td>\n",
       "      <td>6194.11</td>\n",
       "      <td>0.00108</td>\n",
       "      <td>6194.11</td>\n",
       "      <td>6194.11</td>\n",
       "      <td>0</td>\n",
       "      <td>1</td>\n",
       "      <td>buy</td>\n",
       "    </tr>\n",
       "    <tr>\n",
       "      <th>3</th>\n",
       "      <td>2018-06-25 10:47:44</td>\n",
       "      <td>6193.11</td>\n",
       "      <td>5.09e-06</td>\n",
       "      <td>6193.11</td>\n",
       "      <td>6193.11</td>\n",
       "      <td>0</td>\n",
       "      <td>1</td>\n",
       "      <td>buy</td>\n",
       "      <td>2018-06-25 10:47:27</td>\n",
       "      <td>6193.62</td>\n",
       "      <td>...</td>\n",
       "      <td>1</td>\n",
       "      <td>sell</td>\n",
       "      <td>2018-06-25 10:45:28</td>\n",
       "      <td>6194.24</td>\n",
       "      <td>0.0512179</td>\n",
       "      <td>6194.19</td>\n",
       "      <td>6194.14</td>\n",
       "      <td>0</td>\n",
       "      <td>2</td>\n",
       "      <td>sell</td>\n",
       "    </tr>\n",
       "    <tr>\n",
       "      <th>4</th>\n",
       "      <td>2018-06-25 10:48:00</td>\n",
       "      <td>6187.5</td>\n",
       "      <td>0.10248</td>\n",
       "      <td>6185.51</td>\n",
       "      <td>6183.51</td>\n",
       "      <td>0</td>\n",
       "      <td>2</td>\n",
       "      <td>buy</td>\n",
       "      <td>2018-06-25 10:47:44</td>\n",
       "      <td>6193.11</td>\n",
       "      <td>...</td>\n",
       "      <td>1</td>\n",
       "      <td>buy</td>\n",
       "      <td>2018-06-25 10:47:27</td>\n",
       "      <td>6193.62</td>\n",
       "      <td>0.2394</td>\n",
       "      <td>6193.62</td>\n",
       "      <td>6193.62</td>\n",
       "      <td>0</td>\n",
       "      <td>1</td>\n",
       "      <td>sell</td>\n",
       "    </tr>\n",
       "  </tbody>\n",
       "</table>\n",
       "<p>5 rows × 24 columns</p>\n",
       "</div>"
      ],
      "text/plain": [
       "                  time maxPrice       size meanPrice minPrice MA10 nOrders  \\\n",
       "0  2018-06-25 10:45:04  6194.11    0.00108   6194.11  6194.11    0       1   \n",
       "1  2018-06-25 10:45:28  6194.24  0.0512179   6194.19  6194.14    0       2   \n",
       "2  2018-06-25 10:47:27  6193.62     0.2394   6193.62  6193.62    0       1   \n",
       "3  2018-06-25 10:47:44  6193.11   5.09e-06   6193.11  6193.11    0       1   \n",
       "4  2018-06-25 10:48:00   6187.5    0.10248   6185.51  6183.51    0       2   \n",
       "\n",
       "  side_maker         time_lagg_-1 maxPrice_lagg_-1        ...          \\\n",
       "0        buy                  NaN              NaN        ...           \n",
       "1       sell  2018-06-25 10:45:04          6194.11        ...           \n",
       "2       sell  2018-06-25 10:45:28          6194.24        ...           \n",
       "3        buy  2018-06-25 10:47:27          6193.62        ...           \n",
       "4        buy  2018-06-25 10:47:44          6193.11        ...           \n",
       "\n",
       "  nOrders_lagg_-1 side_maker_lagg_-1         time_lagg_-2 maxPrice_lagg_-2  \\\n",
       "0             NaN                NaN                  NaN              NaN   \n",
       "1               1                buy                  NaN              NaN   \n",
       "2               2               sell  2018-06-25 10:45:04          6194.11   \n",
       "3               1               sell  2018-06-25 10:45:28          6194.24   \n",
       "4               1                buy  2018-06-25 10:47:27          6193.62   \n",
       "\n",
       "  size_lagg_-2 meanPrice_lagg_-2 minPrice_lagg_-2 MA10_lagg_-2  \\\n",
       "0          NaN               NaN              NaN          NaN   \n",
       "1          NaN               NaN              NaN          NaN   \n",
       "2      0.00108           6194.11          6194.11            0   \n",
       "3    0.0512179           6194.19          6194.14            0   \n",
       "4       0.2394           6193.62          6193.62            0   \n",
       "\n",
       "  nOrders_lagg_-2 side_maker_lagg_-2  \n",
       "0             NaN                NaN  \n",
       "1             NaN                NaN  \n",
       "2               1                buy  \n",
       "3               2               sell  \n",
       "4               1               sell  \n",
       "\n",
       "[5 rows x 24 columns]"
      ]
     },
     "execution_count": 80,
     "metadata": {},
     "output_type": "execute_result"
    }
   ],
   "source": [
    "pandas_train_data_lagged.head()"
   ]
  },
  {
   "cell_type": "code",
   "execution_count": 81,
   "metadata": {},
   "outputs": [],
   "source": [
    "pandas_train_data_lagged.drop([\"time_lagg_-2\",\"time_lagg_-1\"], axis=1, inplace=True)"
   ]
  },
  {
   "cell_type": "code",
   "execution_count": 82,
   "metadata": {},
   "outputs": [
    {
     "data": {
      "text/plain": [
       "time                  1242\n",
       "maxPrice              1242\n",
       "size                  1242\n",
       "meanPrice             1242\n",
       "minPrice              1242\n",
       "MA10                  1242\n",
       "nOrders               1242\n",
       "side_maker            1242\n",
       "maxPrice_lagg_-1      1241\n",
       "size_lagg_-1          1241\n",
       "meanPrice_lagg_-1     1241\n",
       "minPrice_lagg_-1      1241\n",
       "MA10_lagg_-1          1241\n",
       "nOrders_lagg_-1       1241\n",
       "side_maker_lagg_-1    1241\n",
       "maxPrice_lagg_-2      1240\n",
       "size_lagg_-2          1240\n",
       "meanPrice_lagg_-2     1240\n",
       "minPrice_lagg_-2      1240\n",
       "MA10_lagg_-2          1240\n",
       "nOrders_lagg_-2       1240\n",
       "side_maker_lagg_-2    1240\n",
       "dtype: int64"
      ]
     },
     "execution_count": 82,
     "metadata": {},
     "output_type": "execute_result"
    }
   ],
   "source": [
    "pandas_train_data_lagged.count()"
   ]
  },
  {
   "cell_type": "code",
   "execution_count": 83,
   "metadata": {},
   "outputs": [
    {
     "data": {
      "text/plain": [
       "time                    object\n",
       "maxPrice                object\n",
       "size                    object\n",
       "meanPrice               object\n",
       "minPrice                object\n",
       "MA10                    object\n",
       "nOrders                 object\n",
       "side_maker            category\n",
       "maxPrice_lagg_-1        object\n",
       "size_lagg_-1            object\n",
       "meanPrice_lagg_-1       object\n",
       "minPrice_lagg_-1        object\n",
       "MA10_lagg_-1            object\n",
       "nOrders_lagg_-1         object\n",
       "side_maker_lagg_-1      object\n",
       "maxPrice_lagg_-2        object\n",
       "size_lagg_-2            object\n",
       "meanPrice_lagg_-2       object\n",
       "minPrice_lagg_-2        object\n",
       "MA10_lagg_-2            object\n",
       "nOrders_lagg_-2         object\n",
       "side_maker_lagg_-2      object\n",
       "dtype: object"
      ]
     },
     "execution_count": 83,
     "metadata": {},
     "output_type": "execute_result"
    }
   ],
   "source": [
    "pandas_train_data_lagged.side_maker=pandas_train_data_lagged.side_maker.astype(\"category\")\n",
    "pandas_train_data_lagged.dtypes"
   ]
  },
  {
   "cell_type": "code",
   "execution_count": 84,
   "metadata": {},
   "outputs": [],
   "source": [
    "pandas_train_data_lagged=pandas_train_data_lagged[1:]"
   ]
  },
  {
   "cell_type": "code",
   "execution_count": 54,
   "metadata": {},
   "outputs": [],
   "source": [
    "pandas_train_data_lagged.to_csv(\"pandas_train_data_lagged.csv\", index=False)"
   ]
  }
 ],
 "metadata": {
  "kernelspec": {
   "display_name": "Python 3",
   "language": "python",
   "name": "python3"
  },
  "language_info": {
   "codemirror_mode": {
    "name": "ipython",
    "version": 3
   },
   "file_extension": ".py",
   "mimetype": "text/x-python",
   "name": "python",
   "nbconvert_exporter": "python",
   "pygments_lexer": "ipython3",
   "version": "3.6.4"
  }
 },
 "nbformat": 4,
 "nbformat_minor": 2
}
