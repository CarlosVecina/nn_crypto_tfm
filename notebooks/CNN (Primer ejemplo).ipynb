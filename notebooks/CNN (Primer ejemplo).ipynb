{
 "cells": [
  {
   "cell_type": "markdown",
   "metadata": {},
   "source": [
    "# CNN 1-D to predict Cryptocurrencies Time Series"
   ]
  },
  {
   "cell_type": "markdown",
   "metadata": {},
   "source": [
    "# Clasification"
   ]
  },
  {
   "cell_type": "code",
   "execution_count": 441,
   "metadata": {},
   "outputs": [],
   "source": [
    "import keras\n",
    "from keras.datasets import mnist\n",
    "from keras.models import Sequential\n",
    "from keras.layers import Dense, Dropout, Flatten\n",
    "from keras.layers import Conv1D, Conv2D, MaxPooling2D, MaxPooling1D\n",
    "from keras.callbacks import ModelCheckpoint, ReduceLROnPlateau, CSVLogger\n",
    "import numpy as np\n",
    "import pandas as pd\n",
    "import matplotlib.pyplot as plt"
   ]
  },
  {
   "cell_type": "code",
   "execution_count": 415,
   "metadata": {},
   "outputs": [],
   "source": [
    "window_size = 30\n"
   ]
  },
  {
   "cell_type": "code",
   "execution_count": 416,
   "metadata": {},
   "outputs": [
    {
     "data": {
      "text/plain": [
       "10956"
      ]
     },
     "execution_count": 416,
     "metadata": {},
     "output_type": "execute_result"
    }
   ],
   "source": [
    "raw_data = pd.read_csv(\"dataBTC_USD_0007_expanded.csv\")\n",
    "len(raw_data)"
   ]
  },
  {
   "cell_type": "code",
   "execution_count": 417,
   "metadata": {},
   "outputs": [
    {
     "data": {
      "text/html": [
       "<div>\n",
       "<style scoped>\n",
       "    .dataframe tbody tr th:only-of-type {\n",
       "        vertical-align: middle;\n",
       "    }\n",
       "\n",
       "    .dataframe tbody tr th {\n",
       "        vertical-align: top;\n",
       "    }\n",
       "\n",
       "    .dataframe thead th {\n",
       "        text-align: right;\n",
       "    }\n",
       "</style>\n",
       "<table border=\"1\" class=\"dataframe\">\n",
       "  <thead>\n",
       "    <tr style=\"text-align: right;\">\n",
       "      <th></th>\n",
       "      <th>timestep</th>\n",
       "      <th>size</th>\n",
       "      <th>norders</th>\n",
       "      <th>price_mean</th>\n",
       "      <th>price_min</th>\n",
       "      <th>price_max</th>\n",
       "      <th>price_last</th>\n",
       "    </tr>\n",
       "  </thead>\n",
       "  <tbody>\n",
       "    <tr>\n",
       "      <th>0</th>\n",
       "      <td>2018-07-26 14:35:39</td>\n",
       "      <td>0.040404</td>\n",
       "      <td>2</td>\n",
       "      <td>8187.975000</td>\n",
       "      <td>8187.98</td>\n",
       "      <td>8187.97</td>\n",
       "      <td>8187.97</td>\n",
       "    </tr>\n",
       "    <tr>\n",
       "      <th>1</th>\n",
       "      <td>2018-07-26 14:35:40</td>\n",
       "      <td>1.099503</td>\n",
       "      <td>13</td>\n",
       "      <td>8189.342308</td>\n",
       "      <td>8189.99</td>\n",
       "      <td>8187.98</td>\n",
       "      <td>8189.99</td>\n",
       "    </tr>\n",
       "    <tr>\n",
       "      <th>2</th>\n",
       "      <td>2018-07-26 14:35:41</td>\n",
       "      <td>0.000000</td>\n",
       "      <td>0</td>\n",
       "      <td>8189.342308</td>\n",
       "      <td>8189.99</td>\n",
       "      <td>8187.98</td>\n",
       "      <td>8189.99</td>\n",
       "    </tr>\n",
       "    <tr>\n",
       "      <th>3</th>\n",
       "      <td>2018-07-26 14:35:42</td>\n",
       "      <td>0.000000</td>\n",
       "      <td>0</td>\n",
       "      <td>8189.342308</td>\n",
       "      <td>8189.99</td>\n",
       "      <td>8187.98</td>\n",
       "      <td>8189.99</td>\n",
       "    </tr>\n",
       "    <tr>\n",
       "      <th>4</th>\n",
       "      <td>2018-07-26 14:35:43</td>\n",
       "      <td>0.000000</td>\n",
       "      <td>0</td>\n",
       "      <td>8189.342308</td>\n",
       "      <td>8189.99</td>\n",
       "      <td>8187.98</td>\n",
       "      <td>8189.99</td>\n",
       "    </tr>\n",
       "  </tbody>\n",
       "</table>\n",
       "</div>"
      ],
      "text/plain": [
       "              timestep      size  norders   price_mean  price_min  price_max  \\\n",
       "0  2018-07-26 14:35:39  0.040404        2  8187.975000    8187.98    8187.97   \n",
       "1  2018-07-26 14:35:40  1.099503       13  8189.342308    8189.99    8187.98   \n",
       "2  2018-07-26 14:35:41  0.000000        0  8189.342308    8189.99    8187.98   \n",
       "3  2018-07-26 14:35:42  0.000000        0  8189.342308    8189.99    8187.98   \n",
       "4  2018-07-26 14:35:43  0.000000        0  8189.342308    8189.99    8187.98   \n",
       "\n",
       "   price_last  \n",
       "0     8187.97  \n",
       "1     8189.99  \n",
       "2     8189.99  \n",
       "3     8189.99  \n",
       "4     8189.99  "
      ]
     },
     "execution_count": 417,
     "metadata": {},
     "output_type": "execute_result"
    }
   ],
   "source": [
    "raw_data.iloc[:5,:]"
   ]
  },
  {
   "cell_type": "code",
   "execution_count": 418,
   "metadata": {},
   "outputs": [
    {
     "data": {
      "text/plain": [
       "10956"
      ]
     },
     "execution_count": 418,
     "metadata": {},
     "output_type": "execute_result"
    }
   ],
   "source": [
    "# Dividimos en train y test\n",
    "split_line = round(0.95 * raw_data.shape[0])\n",
    "end = int(raw_data.shape[0])\n",
    "split_line\n",
    "end"
   ]
  },
  {
   "cell_type": "code",
   "execution_count": 419,
   "metadata": {},
   "outputs": [],
   "source": [
    "trainSet = raw_data[:split_line]\n",
    "testSet = raw_data[split_line:end]"
   ]
  },
  {
   "cell_type": "code",
   "execution_count": 422,
   "metadata": {},
   "outputs": [],
   "source": [
    "x_train = trainSet.iloc[:,1:6] # quitamos la columna 6 que es la y, last_price\n",
    "x_train = x_train.iloc[:-1,:] # quitamos la última fila del train para evitar leakage del testset\n",
    "#y_train = np.sign(trainSet[\"_7\"].diff(1).slice_shift(-1))\n",
    "y_train = np.sign(trainSet[\"price_last\"].diff(1).slice_shift(-1))\n",
    "\n",
    "x_test = testSet.iloc[:,1:6]\n",
    "x_test = x_test.iloc[:-1,:] # quitamos la última fila del train para evitar leakage del testset\n",
    "#y_test = np.sign(testSet[\"_7\"].diff(1).slice_shift(-1))\n",
    "y_test = np.sign(testSet[\"price_last\"].diff(1).slice_shift(-1))"
   ]
  },
  {
   "cell_type": "markdown",
   "metadata": {},
   "source": [
    "### Escalamos los datos. (COMO MEJORA ESCALAR POR VENTANAS)"
   ]
  },
  {
   "cell_type": "code",
   "execution_count": 423,
   "metadata": {},
   "outputs": [],
   "source": [
    "from sklearn.preprocessing import StandardScaler\n",
    "sc = StandardScaler()\n",
    "x_train = sc.fit_transform(x_train)\n",
    "x_test = sc.transform(x_test)"
   ]
  },
  {
   "cell_type": "markdown",
   "metadata": {},
   "source": [
    "### Creamos las ventanas"
   ]
  },
  {
   "cell_type": "code",
   "execution_count": 424,
   "metadata": {},
   "outputs": [],
   "source": [
    "timeseries = np.asarray(x_train)\n",
    "assert 0 < window_size < timeseries.shape[0]\n",
    "x_train = np.atleast_3d(np.array([timeseries[start:start + window_size] for start in range(0, timeseries.shape[0] - window_size)]))"
   ]
  },
  {
   "cell_type": "code",
   "execution_count": 425,
   "metadata": {},
   "outputs": [],
   "source": [
    "timeseries = np.asarray(x_test)\n",
    "assert 0 < window_size < timeseries.shape[0]\n",
    "x_test = np.atleast_3d(np.array([timeseries[start:start + window_size] for start in range(0, timeseries.shape[0] - window_size)]))"
   ]
  },
  {
   "cell_type": "code",
   "execution_count": 426,
   "metadata": {},
   "outputs": [],
   "source": [
    "y_test = np.asarray(y_test)[window_size:]\n",
    "y_train = np.asarray(y_train)[window_size:]\n"
   ]
  },
  {
   "cell_type": "code",
   "execution_count": 427,
   "metadata": {},
   "outputs": [
    {
     "name": "stdout",
     "output_type": "stream",
     "text": [
      "x_train shape: (10377, 30, 5)\n",
      "10377 train samples\n",
      "517 test samples\n"
     ]
    }
   ],
   "source": [
    "batch_size = 128\n",
    "num_classes = 3\n",
    "epochs = 12\n",
    "\n",
    "# input image dimensions\n",
    "#img_rows, img_cols = 28, 28\n",
    "\n",
    "\n",
    "# x_train = x_train.reshape(60000,28,28,1)\n",
    "# x_test = x_test.reshape(10000,28,28,1)\n",
    "\n",
    "\n",
    "print('x_train shape:', x_train.shape)\n",
    "print(x_train.shape[0], 'train samples')\n",
    "print(x_test.shape[0], 'test samples')\n",
    "\n"
   ]
  },
  {
   "cell_type": "code",
   "execution_count": 464,
   "metadata": {},
   "outputs": [
    {
     "data": {
      "text/plain": [
       "array([[ 1.45754163,  7.0066897 , -1.57769599, -1.50179668, -1.74067281],\n",
       "       [-0.11029758, -0.3816181 , -1.57769599, -1.50179668, -1.74067281],\n",
       "       [-0.11029758, -0.3816181 , -1.57769599, -1.50179668, -1.74067281],\n",
       "       [-0.11029758, -0.3816181 , -1.57769599, -1.50179668, -1.74067281],\n",
       "       [-0.07530417,  0.18671327, -1.49605535, -1.50055515, -1.49003846],\n",
       "       [-0.11029758, -0.3816181 , -1.49605535, -1.50055515, -1.49003846],\n",
       "       [-0.11029758, -0.3816181 , -1.49605535, -1.50055515, -1.49003846],\n",
       "       [-0.11029758, -0.3816181 , -1.49605535, -1.50055515, -1.49003846],\n",
       "       [-0.11029758, -0.3816181 , -1.49605535, -1.50055515, -1.49003846],\n",
       "       [ 0.48730061,  0.18671327, -1.49605535, -1.50055515, -1.49003846],\n",
       "       [-0.11029758, -0.3816181 , -1.49605535, -1.50055515, -1.49003846],\n",
       "       [ 0.12367512,  0.75504464, -1.49605535, -1.50055515, -1.49003846],\n",
       "       [-0.11029758, -0.3816181 , -1.49605535, -1.50055515, -1.49003846],\n",
       "       [-0.11029758, -0.3816181 , -1.49605535, -1.50055515, -1.49003846],\n",
       "       [-0.11029758, -0.3816181 , -1.49605535, -1.50055515, -1.49003846],\n",
       "       [-0.11029758, -0.3816181 , -1.49605535, -1.50055515, -1.49003846],\n",
       "       [-0.11029758, -0.3816181 , -1.49605535, -1.50055515, -1.49003846],\n",
       "       [-0.05907437,  0.18671327, -1.49605535, -1.50055515, -1.49003846],\n",
       "       [-0.11029758, -0.3816181 , -1.49605535, -1.50055515, -1.49003846],\n",
       "       [-0.11029758, -0.3816181 , -1.49605535, -1.50055515, -1.49003846],\n",
       "       [-0.11029758, -0.3816181 , -1.49605535, -1.50055515, -1.49003846],\n",
       "       [-0.11029758, -0.3816181 , -1.49605535, -1.50055515, -1.49003846],\n",
       "       [-0.11029758, -0.3816181 , -1.49605535, -1.50055515, -1.49003846],\n",
       "       [-0.11029758, -0.3816181 , -1.49605535, -1.50055515, -1.49003846],\n",
       "       [-0.11029758, -0.3816181 , -1.49605535, -1.50055515, -1.49003846],\n",
       "       [-0.11029758, -0.3816181 , -1.49605535, -1.50055515, -1.49003846],\n",
       "       [ 1.63107041,  1.89170738, -1.49605535, -1.50055515, -1.49003846],\n",
       "       [-0.11029758, -0.3816181 , -1.49605535, -1.50055515, -1.49003846],\n",
       "       [-0.11029758, -0.3816181 , -1.49605535, -1.50055515, -1.49003846],\n",
       "       [-0.0761586 ,  2.46003875, -1.4943175 , -1.49186439, -1.49003846]])"
      ]
     },
     "execution_count": 464,
     "metadata": {},
     "output_type": "execute_result"
    }
   ],
   "source": [
    "x_train[1,]"
   ]
  },
  {
   "cell_type": "markdown",
   "metadata": {},
   "source": [
    "### Formateamos la Y"
   ]
  },
  {
   "cell_type": "code",
   "execution_count": 429,
   "metadata": {},
   "outputs": [],
   "source": [
    "from sklearn.preprocessing import LabelEncoder, OneHotEncoder\n",
    "labelencoder_y_1 = LabelEncoder()\n",
    "y_test = labelencoder_y_1.fit_transform(y_test)\n",
    "y_train = labelencoder_y_1.fit_transform(y_train)"
   ]
  },
  {
   "cell_type": "code",
   "execution_count": 430,
   "metadata": {},
   "outputs": [],
   "source": [
    "# x_train=x_train.reshape(4085, 50,1)\n",
    "# x_test=x_test.reshape(214, 50,1)\n",
    "# x_test.shape"
   ]
  },
  {
   "cell_type": "code",
   "execution_count": 431,
   "metadata": {},
   "outputs": [
    {
     "data": {
      "text/plain": [
       "(10377, 30, 5)"
      ]
     },
     "execution_count": 431,
     "metadata": {},
     "output_type": "execute_result"
    }
   ],
   "source": [
    "x_train.shape"
   ]
  },
  {
   "cell_type": "markdown",
   "metadata": {},
   "source": [
    "### Creamos el modelo"
   ]
  },
  {
   "cell_type": "code",
   "execution_count": 432,
   "metadata": {},
   "outputs": [
    {
     "name": "stderr",
     "output_type": "stream",
     "text": [
      "C:\\Users\\Carlos\\Anaconda3\\lib\\site-packages\\ipykernel_launcher.py:2: UserWarning: Update your `Conv1D` call to the Keras 2 API: `Conv1D(activation=\"tanh\", input_shape=(30, 5), filters=4, kernel_size=4)`\n",
      "  \n",
      "C:\\Users\\Carlos\\Anaconda3\\lib\\site-packages\\ipykernel_launcher.py:6: UserWarning: Update your `Conv1D` call to the Keras 2 API: `Conv1D(activation=\"relu\", filters=4, kernel_size=4)`\n",
      "  \n"
     ]
    }
   ],
   "source": [
    "model = Sequential()\n",
    "model.add(Conv1D(nb_filter=4, filter_length=4, activation='tanh', input_shape=(window_size,5)))\n",
    "model.add(MaxPooling1D())\n",
    "model.add(Dropout(0.25))\n",
    "#model.add(Flatten())        \n",
    "model.add(Conv1D(nb_filter=4, filter_length=4, activation='relu'))\n",
    "model.add(MaxPooling1D())\n",
    "model.add(Flatten())\n",
    "#model.add(Dense(64, activation='relu'))\n",
    "model.add(Dropout(0.25))\n",
    "model.add(Dense(num_classes, activation='softmax'))"
   ]
  },
  {
   "cell_type": "code",
   "execution_count": 444,
   "metadata": {},
   "outputs": [
    {
     "name": "stdout",
     "output_type": "stream",
     "text": [
      "Train on 10377 samples, validate on 517 samples\n",
      "Epoch 1/30\n",
      "10377/10377 [==============================] - 1s 124us/step - loss: 0.5815 - acc: 0.8240 - val_loss: 0.7616 - val_acc: 0.7505\n",
      "\n",
      "Epoch 00001: val_loss improved from inf to 0.76161, saving model to lolkek.hdf5\n",
      "Epoch 2/30\n",
      "10377/10377 [==============================] - 0s 36us/step - loss: 0.5811 - acc: 0.8240 - val_loss: 0.7581 - val_acc: 0.7505\n",
      "\n",
      "Epoch 00002: val_loss improved from 0.76161 to 0.75807, saving model to lolkek.hdf5\n",
      "Epoch 3/30\n",
      "10377/10377 [==============================] - 0s 33us/step - loss: 0.5809 - acc: 0.8240 - val_loss: 0.7630 - val_acc: 0.7505\n",
      "\n",
      "Epoch 00003: val_loss did not improve\n",
      "Epoch 4/30\n",
      "10377/10377 [==============================] - 0s 37us/step - loss: 0.5824 - acc: 0.8240 - val_loss: 0.7641 - val_acc: 0.7505\n",
      "\n",
      "Epoch 00004: val_loss did not improve\n",
      "Epoch 5/30\n",
      "10377/10377 [==============================] - 0s 34us/step - loss: 0.5818 - acc: 0.8240 - val_loss: 0.7635 - val_acc: 0.7505\n",
      "\n",
      "Epoch 00005: val_loss did not improve\n",
      "Epoch 6/30\n",
      "10377/10377 [==============================] - 0s 34us/step - loss: 0.5821 - acc: 0.8240 - val_loss: 0.7642 - val_acc: 0.7505\n",
      "\n",
      "Epoch 00006: val_loss did not improve\n",
      "Epoch 7/30\n",
      "10377/10377 [==============================] - 0s 34us/step - loss: 0.5825 - acc: 0.8240 - val_loss: 0.7580 - val_acc: 0.7505\n",
      "\n",
      "Epoch 00007: val_loss improved from 0.75807 to 0.75796, saving model to lolkek.hdf5\n",
      "Epoch 8/30\n",
      "10377/10377 [==============================] - 0s 34us/step - loss: 0.5812 - acc: 0.8240 - val_loss: 0.7521 - val_acc: 0.7505\n",
      "\n",
      "Epoch 00008: val_loss improved from 0.75796 to 0.75211, saving model to lolkek.hdf5\n",
      "Epoch 9/30\n",
      "10377/10377 [==============================] - 0s 31us/step - loss: 0.5828 - acc: 0.8240 - val_loss: 0.7649 - val_acc: 0.7505\n",
      "\n",
      "Epoch 00009: val_loss did not improve\n",
      "Epoch 10/30\n",
      "10377/10377 [==============================] - 0s 32us/step - loss: 0.5808 - acc: 0.8240 - val_loss: 0.7582 - val_acc: 0.7505\n",
      "\n",
      "Epoch 00010: val_loss did not improve\n",
      "Epoch 11/30\n",
      "10377/10377 [==============================] - 0s 31us/step - loss: 0.5801 - acc: 0.8240 - val_loss: 0.7589 - val_acc: 0.7505\n",
      "\n",
      "Epoch 00011: val_loss did not improve\n",
      "Epoch 12/30\n",
      "10377/10377 [==============================] - 0s 33us/step - loss: 0.5821 - acc: 0.8240 - val_loss: 0.7620 - val_acc: 0.7505\n",
      "\n",
      "Epoch 00012: ReduceLROnPlateau reducing learning rate to 0.0009000000427477062.\n",
      "\n",
      "Epoch 00012: val_loss did not improve\n",
      "Epoch 13/30\n",
      "10377/10377 [==============================] - 0s 35us/step - loss: 0.5810 - acc: 0.8240 - val_loss: 0.7575 - val_acc: 0.7505\n",
      "\n",
      "Epoch 00013: val_loss did not improve\n",
      "Epoch 14/30\n",
      "10377/10377 [==============================] - 0s 33us/step - loss: 0.5822 - acc: 0.8240 - val_loss: 0.7585 - val_acc: 0.7505\n",
      "\n",
      "Epoch 00014: val_loss did not improve\n",
      "Epoch 15/30\n",
      "10377/10377 [==============================] - 0s 31us/step - loss: 0.5809 - acc: 0.8240 - val_loss: 0.7614 - val_acc: 0.7505\n",
      "\n",
      "Epoch 00015: val_loss did not improve\n",
      "Epoch 16/30\n",
      "10377/10377 [==============================] - 0s 31us/step - loss: 0.5820 - acc: 0.8240 - val_loss: 0.7611 - val_acc: 0.7505\n",
      "\n",
      "Epoch 00016: val_loss did not improve\n",
      "Epoch 17/30\n",
      "10377/10377 [==============================] - 0s 31us/step - loss: 0.5810 - acc: 0.8240 - val_loss: 0.7571 - val_acc: 0.7505\n",
      "\n",
      "Epoch 00017: val_loss did not improve\n",
      "Epoch 18/30\n",
      "10377/10377 [==============================] - 0s 31us/step - loss: 0.5816 - acc: 0.8240 - val_loss: 0.7594 - val_acc: 0.7505\n",
      "\n",
      "Epoch 00018: val_loss did not improve\n",
      "Epoch 19/30\n",
      "10377/10377 [==============================] - 0s 31us/step - loss: 0.5811 - acc: 0.8240 - val_loss: 0.7676 - val_acc: 0.7505\n",
      "\n",
      "Epoch 00019: val_loss did not improve\n",
      "Epoch 20/30\n",
      "10377/10377 [==============================] - 0s 31us/step - loss: 0.5812 - acc: 0.8240 - val_loss: 0.7598 - val_acc: 0.7505\n",
      "\n",
      "Epoch 00020: val_loss did not improve\n",
      "Epoch 21/30\n",
      "10377/10377 [==============================] - 0s 31us/step - loss: 0.5827 - acc: 0.8240 - val_loss: 0.7558 - val_acc: 0.7505\n",
      "\n",
      "Epoch 00021: val_loss did not improve\n",
      "Epoch 22/30\n",
      "10377/10377 [==============================] - 0s 33us/step - loss: 0.5818 - acc: 0.8240 - val_loss: 0.7617 - val_acc: 0.7505\n",
      "\n",
      "Epoch 00022: ReduceLROnPlateau reducing learning rate to 0.0008100000384729356.\n",
      "\n",
      "Epoch 00022: val_loss did not improve\n",
      "Epoch 23/30\n",
      "10377/10377 [==============================] - 0s 33us/step - loss: 0.5818 - acc: 0.8240 - val_loss: 0.7580 - val_acc: 0.7505\n",
      "\n",
      "Epoch 00023: val_loss did not improve\n",
      "Epoch 24/30\n",
      "10377/10377 [==============================] - 0s 33us/step - loss: 0.5816 - acc: 0.8240 - val_loss: 0.7602 - val_acc: 0.7505\n",
      "\n",
      "Epoch 00024: val_loss did not improve\n",
      "Epoch 25/30\n",
      "10377/10377 [==============================] - 0s 32us/step - loss: 0.5825 - acc: 0.8240 - val_loss: 0.7600 - val_acc: 0.7505\n",
      "\n",
      "Epoch 00025: val_loss did not improve\n",
      "Epoch 26/30\n",
      "10377/10377 [==============================] - 0s 31us/step - loss: 0.5821 - acc: 0.8240 - val_loss: 0.7626 - val_acc: 0.7505\n",
      "\n",
      "Epoch 00026: val_loss did not improve\n",
      "Epoch 27/30\n",
      "10377/10377 [==============================] - 0s 31us/step - loss: 0.5817 - acc: 0.8240 - val_loss: 0.7621 - val_acc: 0.7505\n",
      "\n",
      "Epoch 00027: val_loss did not improve\n",
      "Epoch 28/30\n",
      "10377/10377 [==============================] - 0s 31us/step - loss: 0.5806 - acc: 0.8240 - val_loss: 0.7680 - val_acc: 0.7505\n",
      "\n",
      "Epoch 00028: val_loss did not improve\n",
      "Epoch 29/30\n",
      "10377/10377 [==============================] - 0s 31us/step - loss: 0.5816 - acc: 0.8240 - val_loss: 0.7618 - val_acc: 0.7505\n",
      "\n",
      "Epoch 00029: val_loss did not improve\n",
      "Epoch 30/30\n",
      "10377/10377 [==============================] - 0s 32us/step - loss: 0.5819 - acc: 0.8240 - val_loss: 0.7576 - val_acc: 0.7505\n",
      "\n",
      "Epoch 00030: val_loss did not improve\n",
      "Test loss: 0.7575775970861575\n",
      "Test accuracy: 0.7504835589941973\n"
     ]
    }
   ],
   "source": [
    "reduce_lr = ReduceLROnPlateau(monitor='val_acc', factor=0.9, patience=10, min_lr=0.000001, verbose=1)\n",
    "checkpointer = ModelCheckpoint(filepath=\"lolkek.hdf5\", verbose=1, save_best_only=True)\n",
    "\n",
    "model.compile(loss=keras.losses.sparse_categorical_crossentropy,\n",
    "              optimizer=keras.optimizers.Adam(),\n",
    "              metrics=['accuracy'])\n",
    "\n",
    "history = model.fit(x_train, y_train,\n",
    "          batch_size=164,\n",
    "          epochs=30,\n",
    "          verbose=1,\n",
    "          validation_data=(x_test, y_test),\n",
    "         callbacks=[reduce_lr, checkpointer])\n",
    "score = model.evaluate(x_test, y_test, verbose=0)\n",
    "print('Test loss:', score[0])\n",
    "print('Test accuracy:', score[1])"
   ]
  },
  {
   "cell_type": "markdown",
   "metadata": {},
   "source": [
    "### Resultados"
   ]
  },
  {
   "cell_type": "code",
   "execution_count": 458,
   "metadata": {},
   "outputs": [
    {
     "data": {
      "text/plain": [
       "array([[0.11366151, 0.79792655, 0.08841202],\n",
       "       [0.09155462, 0.8066263 , 0.10181907],\n",
       "       [0.10584506, 0.7894734 , 0.10468163],\n",
       "       [0.0505468 , 0.8685475 , 0.08090574],\n",
       "       [0.08417014, 0.82565266, 0.09017721],\n",
       "       [0.06779907, 0.85386395, 0.07833695],\n",
       "       [0.08356107, 0.82834905, 0.08808984],\n",
       "       [0.09941269, 0.80894554, 0.09164178],\n",
       "       [0.06521894, 0.8409015 , 0.0938795 ],\n",
       "       [0.07754117, 0.8288259 , 0.09363292]], dtype=float32)"
      ]
     },
     "execution_count": 458,
     "metadata": {},
     "output_type": "execute_result"
    }
   ],
   "source": [
    "model.load_weights(\"lolkek.hdf5\")\n",
    "pred = model.predict(np.array(x_test))\n",
    "pred[:10]\n"
   ]
  },
  {
   "cell_type": "code",
   "execution_count": 457,
   "metadata": {},
   "outputs": [
    {
     "data": {
      "text/plain": [
       "array([1, 1, 1, 1, 0, 1, 2, 1, 1, 1], dtype=int64)"
      ]
     },
     "execution_count": 457,
     "metadata": {},
     "output_type": "execute_result"
    }
   ],
   "source": [
    "y_test[:10]"
   ]
  },
  {
   "cell_type": "code",
   "execution_count": 445,
   "metadata": {},
   "outputs": [
    {
     "data": {
      "image/png": "[encoded data removed]",
      "text/plain": [
       "<matplotlib.figure.Figure at 0x1da15e544e0>"
      ]
     },
     "metadata": {},
     "output_type": "display_data"
    },
    {
     "data": {
      "image/png": "[encoded data removed]",
      "text/plain": [
       "<matplotlib.figure.Figure at 0x1da17165470>"
      ]
     },
     "metadata": {},
     "output_type": "display_data"
    }
   ],
   "source": [
    "plt.figure()\n",
    "plt.plot(history.history['loss'])\n",
    "plt.plot(history.history['val_loss'])\n",
    "plt.title('model loss')\n",
    "plt.ylabel('loss')\n",
    "plt.xlabel('epoch')\n",
    "plt.legend(['train', 'test'], loc='best')\n",
    "plt.show()\n",
    "\n",
    "plt.figure()\n",
    "plt.plot(history.history['acc'])\n",
    "plt.plot(history.history['val_acc'])\n",
    "plt.title('model accuracy')\n",
    "plt.ylabel('accuracy')\n",
    "plt.xlabel('epoch')\n",
    "plt.legend(['train', 'test'], loc='best')\n",
    "plt.show()"
   ]
  }
 ],
 "metadata": {
  "kernelspec": {
   "display_name": "Python 3",
   "language": "python",
   "name": "python3"
  },
  "language_info": {
   "codemirror_mode": {
    "name": "ipython",
    "version": 3
   },
   "file_extension": ".py",
   "mimetype": "text/x-python",
   "name": "python",
   "nbconvert_exporter": "python",
   "pygments_lexer": "ipython3",
   "version": "3.6.4"
  }
 },
 "nbformat": 4,
 "nbformat_minor": 2
}
